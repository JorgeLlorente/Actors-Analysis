{
 "cells": [
  {
   "cell_type": "code",
   "execution_count": 119,
   "metadata": {},
   "outputs": [],
   "source": [
    "import pandas as pd\n",
    "import numpy as numpy\n",
    "from geotext import GeoText\n",
    "import re\n",
    "from bs4 import BeautifulSoup\n",
    "from time import sleep\n",
    "from selenium import webdriver\n",
    "from webdriver_manager.chrome import ChromeDriverManager\n",
    "from selenium.webdriver.common.keys import Keys\n",
    "from selenium.webdriver.chrome.options import Options\n",
    "from selenium.common.exceptions import NoSuchElementException\n",
    "from selenium.webdriver.common.by import By\n",
    "from selenium.webdriver.support.ui import WebDriverWait\n",
    "from selenium.webdriver.support import expected_conditions\n",
    "from selenium.common.exceptions import ElementClickInterceptedException\n",
    "\n",
    "import spacy\n",
    "\n",
    "import itertools\n",
    "import requests\n",
    "\n",
    "import gender_guesser.detector as gender\n",
    "\n",
    "import warnings\n",
    "warnings.filterwarnings('ignore')"
   ]
  },
  {
   "attachments": {},
   "cell_type": "markdown",
   "metadata": {},
   "source": [
    "#### Borial Management"
   ]
  },
  {
   "cell_type": "code",
   "execution_count": 2,
   "metadata": {},
   "outputs": [],
   "source": [
    "url = \"https://borialmanagement.com/\"\n",
    "res1 = requests.get(url)\n",
    "sopa = BeautifulSoup(res1.content, 'html.parser')\n",
    "tags = sopa.find_all(\"h4\", {\"class\": \"personName toBold\"})"
   ]
  },
  {
   "cell_type": "code",
   "execution_count": 3,
   "metadata": {},
   "outputs": [],
   "source": [
    "actores = []\n",
    "for tag in tags:\n",
    "    actores.append(tag.text)"
   ]
  },
  {
   "cell_type": "code",
   "execution_count": 4,
   "metadata": {},
   "outputs": [],
   "source": [
    "actores.remove('GONZALO FERNГЃNDEZ')\n",
    "actores.remove('VГЌCTOR CASTILLO')\n",
    "actores.remove('ГЃLVARO QUINTANA')\n",
    "actores.remove('CARLA DГЌAZ')\n",
    "actores.remove('MARIO GARCГЌA')\n",
    "actores.remove('SANTI MARГЌN')\n",
    "actores.remove('ГЃLVARO FONTALBA')"
   ]
  },
  {
   "cell_type": "code",
   "execution_count": 5,
   "metadata": {},
   "outputs": [],
   "source": [
    "actores2 = []\n",
    "for actor in actores:\n",
    "    if len(re.findall(\"\\W\", actor)) > 1:\n",
    "        pass\n",
    "    else:\n",
    "        actores2.append(actor)"
   ]
  },
  {
   "cell_type": "code",
   "execution_count": 6,
   "metadata": {},
   "outputs": [],
   "source": [
    "actores3 = []\n",
    "for actor in actores2:\n",
    "    actores3.append(actor.split())"
   ]
  },
  {
   "cell_type": "code",
   "execution_count": 7,
   "metadata": {},
   "outputs": [],
   "source": [
    "d = gender.Detector()\n",
    "\n",
    "nombres_por_genero = {\"masculino\": [], \"femenino\": []}\n",
    "\n",
    "for nombre in actores3:\n",
    "    nombre_completo = nombre[0].capitalize() + nombre[1].capitalize()\n",
    "    genero = d.get_gender(nombre[0].capitalize())\n",
    "    if genero == \"male\":\n",
    "        nombres_por_genero[\"masculino\"].append(nombre_completo)\n",
    "    elif genero == \"female\":\n",
    "        nombres_por_genero[\"femenino\"].append(nombre_completo)"
   ]
  },
  {
   "cell_type": "code",
   "execution_count": 8,
   "metadata": {},
   "outputs": [
    {
     "name": "stdout",
     "output_type": "stream",
     "text": [
      "0\n",
      "1\n",
      "2\n",
      "3\n",
      "4\n",
      "5\n",
      "6\n",
      "7\n",
      "8\n",
      "9\n",
      "10\n",
      "11\n",
      "12\n",
      "13\n",
      "0\n",
      "1\n",
      "2\n",
      "3\n",
      "0\n",
      "1\n",
      "2\n",
      "3\n",
      "4\n",
      "5\n",
      "6\n",
      "7\n",
      "8\n",
      "9\n",
      "10\n",
      "11\n",
      "12\n",
      "0\n",
      "1\n",
      "2\n",
      "3\n",
      "4\n",
      "5\n",
      "6\n",
      "7\n",
      "8\n",
      "9\n",
      "0\n",
      "1\n",
      "2\n",
      "3\n",
      "4\n",
      "5\n",
      "6\n",
      "7\n",
      "8\n",
      "9\n",
      "10\n",
      "11\n",
      "12\n",
      "13\n",
      "14\n"
     ]
    }
   ],
   "source": [
    "opciones= Options()\n",
    "opciones.add_experimental_option('excludeSwitches', ['enable-automation'])\n",
    "#para ocultarme como robot\n",
    "opciones.add_experimental_option('useAutomationExtension', False)\n",
    "opciones.add_argument('--start-maximized') #empezar maximizado\n",
    "opciones.add_argument('user.data-dir=selenium') #guarda las cookies\n",
    "opciones.add_argument('--incognito')#incognito window\n",
    "\n",
    "dicc = {\"actor\": [], \"formacion\": []}\n",
    "\n",
    "for k, v in nombres_por_genero.items():\n",
    "    if k == \"masculino\":\n",
    "        for k in range(len(v)):\n",
    "            url = f\"https://borialmanagement.com/actores/{nombres_por_genero['masculino'][k]}\"\n",
    "            driver = webdriver.Chrome(ChromeDriverManager().install())\n",
    "            driver.get(url)\n",
    "            driver.implicitly_wait(10)\n",
    "            resultado = driver.find_element(\"css selector\", \"body > div:nth-child(3) > div > div:nth-child(2) > div\").text\n",
    "            resultado = resultado.split(\"\\n\")\n",
    "            if resultado[1] == \"FORMACIÓN\":\n",
    "                artista = resultado[0].lower()\n",
    "                resultado.pop(0)\n",
    "                resultado.pop(0)\n",
    "                i = 0\n",
    "                while resultado[i] != \"TELEVISIÓN\":\n",
    "                    dicc[\"formacion\"].append(resultado[i])\n",
    "                    dicc[\"actor\"].append(artista)\n",
    "                    i+=1\n",
    "            else:\n",
    "                dicc[\"formacion\"].append(\"no hay formación\")\n",
    "                dicc[\"actor\"].append(artista)\n",
    "    else:\n",
    "        for k in range(len(v)):\n",
    "            url = f\"https://borialmanagement.com/actrices/{nombres_por_genero['femenino'][k]}\"\n",
    "            driver = webdriver.Chrome(ChromeDriverManager().install())\n",
    "            driver.get(url)\n",
    "            driver.implicitly_wait(10)\n",
    "            resultado = driver.find_element(\"css selector\", \"body > div:nth-child(3) > div > div:nth-child(2) > div\").text\n",
    "            resultado = resultado.split(\"\\n\")\n",
    "            if resultado[1] == \"FORMACIÓN\":\n",
    "                artista = resultado[0].lower()\n",
    "                resultado.pop(0)\n",
    "                resultado.pop(0)\n",
    "                i = 0\n",
    "                while (resultado[i] != \"TELEVISIÓN\") and (resultado[i] != \"TEATRO\") and (resultado[i] != \"CINE\"):\n",
    "                    print(i)\n",
    "                    dicc[\"formacion\"].append(resultado[i])\n",
    "                    dicc[\"actor\"].append(artista)\n",
    "                    i+=1\n",
    "            else:\n",
    "                dicc[\"formacion\"].append(\"no hay formación\")\n",
    "                dicc[\"actor\"].append(artista)"
   ]
  },
  {
   "cell_type": "code",
   "execution_count": 9,
   "metadata": {},
   "outputs": [],
   "source": [
    "df_borial = pd.DataFrame(dicc)"
   ]
  },
  {
   "cell_type": "code",
   "execution_count": 60,
   "metadata": {},
   "outputs": [],
   "source": [
    "def extraer_ciudad(texto):\n",
    "    return GeoText(texto).cities"
   ]
  },
  {
   "cell_type": "code",
   "execution_count": 61,
   "metadata": {},
   "outputs": [],
   "source": [
    "df_borial[\"ciudad\"] = df_borial[\"formacion\"].apply(extraer_ciudad)"
   ]
  },
  {
   "cell_type": "code",
   "execution_count": 201,
   "metadata": {},
   "outputs": [],
   "source": [
    "def nombres(texto):\n",
    "    patron = r'[A-ZÁÉÍÓÚÑ][a-záéíóúñ]+\\s[A-ZÁÉÍÓÚÑ][a-záéíóúñ]+'\n",
    "    return re.findall(patron, texto)"
   ]
  },
  {
   "cell_type": "code",
   "execution_count": 151,
   "metadata": {},
   "outputs": [],
   "source": [
    "df_borial[\"nombres\"] = df_borial[\"formacion\"].apply(nombres)"
   ]
  },
  {
   "cell_type": "code",
   "execution_count": 160,
   "metadata": {},
   "outputs": [],
   "source": [
    "df_borial = df_borial.explode(\"nombres\")"
   ]
  },
  {
   "cell_type": "code",
   "execution_count": 163,
   "metadata": {},
   "outputs": [],
   "source": [
    "df_borial.to_csv(\"../data/borial_data\")"
   ]
  },
  {
   "attachments": {},
   "cell_type": "markdown",
   "metadata": {},
   "source": [
    "#### Única Representaciones"
   ]
  },
  {
   "cell_type": "code",
   "execution_count": 164,
   "metadata": {},
   "outputs": [],
   "source": [
    "url = \"https://www.unicarepresentaciones.com/Actores\"\n",
    "res1 = requests.get(url)\n",
    "sopa = BeautifulSoup(res1.content, 'html.parser')\n",
    "tags = sopa.find_all(\"div\", {\"class\": \"views-field views-field-title\"})"
   ]
  },
  {
   "cell_type": "code",
   "execution_count": 165,
   "metadata": {},
   "outputs": [],
   "source": [
    "h_unica = []\n",
    "for tag in tags:\n",
    "    h_unica.append(tag.text)"
   ]
  },
  {
   "cell_type": "code",
   "execution_count": 166,
   "metadata": {},
   "outputs": [],
   "source": [
    "url = \"https://www.unicarepresentaciones.com/Actrices\"\n",
    "res1 = requests.get(url)\n",
    "sopa = BeautifulSoup(res1.content, 'html.parser')\n",
    "tags = sopa.find_all(\"div\", {\"class\": \"views-field views-field-title\"})"
   ]
  },
  {
   "cell_type": "code",
   "execution_count": 167,
   "metadata": {},
   "outputs": [],
   "source": [
    "m_unica = []\n",
    "for tag in tags:\n",
    "    m_unica.append(tag.text)"
   ]
  },
  {
   "cell_type": "code",
   "execution_count": 168,
   "metadata": {},
   "outputs": [],
   "source": [
    "actores_unica = h_unica+m_unica"
   ]
  },
  {
   "cell_type": "code",
   "execution_count": 169,
   "metadata": {},
   "outputs": [],
   "source": [
    "h_unica_scrap = []\n",
    "for actor in (h_unica):\n",
    "    h_unica_scrap.append(actor.strip().replace(\" \", \"-\").lower())"
   ]
  },
  {
   "cell_type": "code",
   "execution_count": 170,
   "metadata": {},
   "outputs": [],
   "source": [
    "m_unica_scrap = []\n",
    "for actriz in (m_unica):\n",
    "    m_unica_scrap.append(actriz.strip().replace(\" \", \"-\").lower())"
   ]
  },
  {
   "cell_type": "code",
   "execution_count": 171,
   "metadata": {},
   "outputs": [],
   "source": [
    "unica_scrap = h_unica_scrap+m_unica_scrap"
   ]
  },
  {
   "cell_type": "code",
   "execution_count": 172,
   "metadata": {},
   "outputs": [],
   "source": [
    "opciones= Options()\n",
    "opciones.add_experimental_option('excludeSwitches', ['enable-automation'])\n",
    "opciones.add_experimental_option('useAutomationExtension', False)\n",
    "opciones.add_argument('--start-maximized')\n",
    "opciones.add_argument('user.data-dir=selenium')\n",
    "opciones.add_argument('--incognito')\n",
    "\n",
    "dicc = {\"actor\": [], \"formacion\": []}\n",
    "\n",
    "for actor in unica_scrap:\n",
    "    try:\n",
    "        url = f\"https://www.unicarepresentaciones.com/actores-actrices/{actor}\"\n",
    "        driver = webdriver.Chrome(ChromeDriverManager().install())\n",
    "        driver.get(url)\n",
    "        driver.implicitly_wait(10)\n",
    "        cv = driver.find_element(\"css selector\", \"#block-system-main > div > div.ficha-actores > div.ficha-col-1\").text\n",
    "        elementos = cv.split(\"\\n\")\n",
    "        elementos.pop(0)\n",
    "        elementos = [i.strip() for i in elementos]\n",
    "        if \"Formación\" not in elementos:\n",
    "            pass\n",
    "        else:\n",
    "            indice_formacion = elementos.index(\"Formación\") + 1\n",
    "            lista_formacion = elementos[indice_formacion:]\n",
    "\n",
    "            dicc[\"actor\"].append(actor)\n",
    "            dicc[\"formacion\"].append(lista_formacion)\n",
    "    except NoSuchElementException:\n",
    "        driver.close()"
   ]
  },
  {
   "cell_type": "code",
   "execution_count": 180,
   "metadata": {},
   "outputs": [],
   "source": [
    "df_unica = pd.DataFrame(dicc)"
   ]
  },
  {
   "cell_type": "code",
   "execution_count": 181,
   "metadata": {},
   "outputs": [],
   "source": [
    "df_unica = df_unica.explode('formacion')"
   ]
  },
  {
   "cell_type": "code",
   "execution_count": 177,
   "metadata": {},
   "outputs": [],
   "source": [
    "df_unica.to_csv(\"../data/unica_data_raw\")"
   ]
  },
  {
   "cell_type": "code",
   "execution_count": 183,
   "metadata": {},
   "outputs": [],
   "source": [
    "df_unica[\"ciudad\"] = df_unica[\"formacion\"].apply(extraer_ciudad)"
   ]
  },
  {
   "cell_type": "code",
   "execution_count": 202,
   "metadata": {},
   "outputs": [],
   "source": [
    "df_unica[\"nombres\"] = df_unica[\"formacion\"].apply(nombres)"
   ]
  },
  {
   "cell_type": "code",
   "execution_count": 219,
   "metadata": {},
   "outputs": [],
   "source": [
    "df_unica = df_unica.explode(\"nombres\")"
   ]
  },
  {
   "cell_type": "code",
   "execution_count": null,
   "metadata": {},
   "outputs": [],
   "source": [
    "df_unic"
   ]
  },
  {
   "attachments": {},
   "cell_type": "markdown",
   "metadata": {},
   "source": [
    "#### Listado IMDB"
   ]
  },
  {
   "cell_type": "code",
   "execution_count": 17,
   "metadata": {},
   "outputs": [
    {
     "data": {
      "text/plain": [
       "['DANIEL ALBALADEJO', 'ENRIQUE ASENJO']"
      ]
     },
     "execution_count": 17,
     "metadata": {},
     "output_type": "execute_result"
    }
   ],
   "source": [
    "listado_actores = actores2 + actores_unica"
   ]
  },
  {
   "cell_type": "code",
   "execution_count": 79,
   "metadata": {},
   "outputs": [
    {
     "ename": "AttributeError",
     "evalue": "'NoneType' object has no attribute 'click'",
     "output_type": "error",
     "traceback": [
      "\u001b[1;31m---------------------------------------------------------------------------\u001b[0m",
      "\u001b[1;31mAttributeError\u001b[0m                            Traceback (most recent call last)",
      "\u001b[1;32mc:\\Users\\jorge\\OneDrive\\Escritorio\\IronHack\\Work\\Actors-Analysis\\notebooks\\web_scraping_bueno.ipynb Cell 25\u001b[0m in \u001b[0;36m2\n\u001b[0;32m     <a href='vscode-notebook-cell:/c%3A/Users/jorge/OneDrive/Escritorio/IronHack/Work/Actors-Analysis/notebooks/web_scraping_bueno.ipynb#X33sZmlsZQ%3D%3D?line=22'>23</a>\u001b[0m driver\u001b[39m.\u001b[39mimplicitly_wait(\u001b[39m10\u001b[39m)\n\u001b[0;32m     <a href='vscode-notebook-cell:/c%3A/Users/jorge/OneDrive/Escritorio/IronHack/Work/Actors-Analysis/notebooks/web_scraping_bueno.ipynb#X33sZmlsZQ%3D%3D?line=23'>24</a>\u001b[0m sleep(\u001b[39m5\u001b[39m)\n\u001b[1;32m---> <a href='vscode-notebook-cell:/c%3A/Users/jorge/OneDrive/Escritorio/IronHack/Work/Actors-Analysis/notebooks/web_scraping_bueno.ipynb#X33sZmlsZQ%3D%3D?line=24'>25</a>\u001b[0m driver\u001b[39m.\u001b[39;49mfind_element(\u001b[39m\"\u001b[39;49m\u001b[39mcss selector\u001b[39;49m\u001b[39m\"\u001b[39;49m, \u001b[39m\"\u001b[39;49m\u001b[39m#iconContext-expand-more\u001b[39;49m\u001b[39m\"\u001b[39;49m)\u001b[39m.\u001b[39;49mclick()\n\u001b[0;32m     <a href='vscode-notebook-cell:/c%3A/Users/jorge/OneDrive/Escritorio/IronHack/Work/Actors-Analysis/notebooks/web_scraping_bueno.ipynb#X33sZmlsZQ%3D%3D?line=25'>26</a>\u001b[0m driver\u001b[39m.\u001b[39mimplicitly_wait(\u001b[39m10\u001b[39m)\n\u001b[0;32m     <a href='vscode-notebook-cell:/c%3A/Users/jorge/OneDrive/Escritorio/IronHack/Work/Actors-Analysis/notebooks/web_scraping_bueno.ipynb#X33sZmlsZQ%3D%3D?line=26'>27</a>\u001b[0m conteo\u001b[39m+\u001b[39m\u001b[39m=\u001b[39m\u001b[39m1\u001b[39m\n",
      "\u001b[1;31mAttributeError\u001b[0m: 'NoneType' object has no attribute 'click'"
     ]
    }
   ],
   "source": [
    "opciones= Options()\n",
    "opciones.add_experimental_option('excludeSwitches', ['enable-automation'])\n",
    "opciones.add_experimental_option('useAutomationExtension', False)\n",
    "opciones.add_argument('--start-maximized')\n",
    "opciones.add_argument('user.data-dir=selenium')\n",
    "opciones.add_argument('--incognito')\n",
    "\n",
    "dicc = {\"actor\": [], \"trabajos\": []}\n",
    "conteo = 0\n",
    "desplazamiento = [2400, 2500, 2600, 2700, 2800, 2900]\n",
    "for actor in listado_actores:\n",
    "    try:\n",
    "        url = \"https://www.imdb.com/?ref_=nv_home\"\n",
    "        driver = webdriver.Chrome(ChromeDriverManager().install())\n",
    "        driver.get(url)\n",
    "        driver.implicitly_wait(10)\n",
    "        element = driver.find_element(\"css selector\", \"#suggestion-search\").send_keys(actor)\n",
    "        driver.find_element(\"css selector\", \"#react-autowhatever-navSuggestionSearch--item-0 > a > div.sc-fEXmlR.iAJXhE > div.sc-bjfHbI.fOUGiO.searchResult__constTitle\").click()\n",
    "        driver.implicitly_wait(10)\n",
    "        for i in desplazamiento:\n",
    "            try:\n",
    "                driver.execute_script(f\"window.scrollTo(0, {i})\")\n",
    "                driver.implicitly_wait(10)\n",
    "                sleep(5)\n",
    "                driver.find_element(\"css selector\", \"#iconContext-expand-more\").click()\n",
    "                driver.implicitly_wait(10)\n",
    "                conteo+=1\n",
    "                dicc[\"trabajos\"].append(driver.find_element(\"css selector\", \"#__next > main > div > section.ipc-page-background.ipc-page-background--base.sc-f9e7f53-0.ifXVtO > div > section > div > div.sc-414674b4-1.gWfYnM.ipc-page-grid__item.ipc-page-grid__item--span-2 > div.celwidget > section:nth-child(2) > div.sc-4390696d-3.dVbZNr > div.ipc-accordion.sc-3aa8a953-0.bVYxxN.date-credits-accordion.ipc-accordion--base.ipc-accordion--dividers-none.ipc-accordion--pageSection > div > div.ipc-accordion__item__content > div\").text)\n",
    "                dicc[\"actor\"].append(actor)\n",
    "                if conteo == len(dicc[\"trabajos\"]):\n",
    "                    break\n",
    "                else:\n",
    "                    pass\n",
    "            except ElementClickInterceptedException:\n",
    "                pass\n",
    "    except NoSuchElementException:\n",
    "        dicc[\"trabajos\"].append(driver.find_element(\"css selector\", \"#__next > main > div > section.ipc-page-background.ipc-page-background--base.sc-f9e7f53-0.ifXVtO > div > section > div > div.sc-414674b4-1.gWfYnM.ipc-page-grid__item.ipc-page-grid__item--span-2 > div.celwidget > section:nth-child(2) > div.sc-4390696d-3.dVbZNr > div.ipc-accordion.sc-3aa8a953-0.bVYxxN.date-credits-accordion.ipc-accordion--base.ipc-accordion--dividers-none.ipc-accordion--pageSection > div > div.ipc-accordion__item__content > div\").text)\n",
    "        dicc[\"actor\"].append(actor)\n",
    "        driver.close()"
   ]
  },
  {
   "cell_type": "code",
   "execution_count": 83,
   "metadata": {},
   "outputs": [
    {
     "data": {
      "text/html": [
       "<div>\n",
       "<style scoped>\n",
       "    .dataframe tbody tr th:only-of-type {\n",
       "        vertical-align: middle;\n",
       "    }\n",
       "\n",
       "    .dataframe tbody tr th {\n",
       "        vertical-align: top;\n",
       "    }\n",
       "\n",
       "    .dataframe thead th {\n",
       "        text-align: right;\n",
       "    }\n",
       "</style>\n",
       "<table border=\"1\" class=\"dataframe\">\n",
       "  <thead>\n",
       "    <tr style=\"text-align: right;\">\n",
       "      <th></th>\n",
       "      <th>actor</th>\n",
       "      <th>trabajos</th>\n",
       "    </tr>\n",
       "  </thead>\n",
       "  <tbody>\n",
       "    <tr>\n",
       "      <th>0</th>\n",
       "      <td>DANIEL ALBALADEJO</td>\n",
       "      <td>Alumbramiento\\nPsicólogo\\nCorto\\n2022\\nLa noch...</td>\n",
       "    </tr>\n",
       "    <tr>\n",
       "      <th>1</th>\n",
       "      <td>ENRIQUE ASENJO</td>\n",
       "      <td>Reyes contra Santa\\nPolicía 1\\n2022\\nPocos, bu...</td>\n",
       "    </tr>\n",
       "    <tr>\n",
       "      <th>2</th>\n",
       "      <td>DAFNIS BALDUZ</td>\n",
       "      <td>Los renglones torcidos de Dios\\nInspector Soto...</td>\n",
       "    </tr>\n",
       "    <tr>\n",
       "      <th>3</th>\n",
       "      <td>MARINA BELLATI</td>\n",
       "      <td>Adios Buenos Aires\\nMariela Martínez\\n2023\\nEl...</td>\n",
       "    </tr>\n",
       "    <tr>\n",
       "      <th>4</th>\n",
       "      <td>ANA BOKESA</td>\n",
       "      <td>Élite\\nRocío (as Ana Bokesa)\\nSerie de TV\\n202...</td>\n",
       "    </tr>\n",
       "    <tr>\n",
       "      <th>5</th>\n",
       "      <td>JORGE CALVO</td>\n",
       "      <td>Calle de la Humanidad, 8\\nDiego Romano, le con...</td>\n",
       "    </tr>\n",
       "    <tr>\n",
       "      <th>6</th>\n",
       "      <td>JORGE CALVO</td>\n",
       "      <td>Calle de la Humanidad, 8\\nDiego Romano, le con...</td>\n",
       "    </tr>\n",
       "    <tr>\n",
       "      <th>7</th>\n",
       "      <td>JACOBO CAMARENA</td>\n",
       "      <td>HIT\\nTeo\\nSerie de TV\\n2021\\n10 episodios</td>\n",
       "    </tr>\n",
       "    <tr>\n",
       "      <th>8</th>\n",
       "      <td>PEDRO CARVALHO</td>\n",
       "      <td>O Segundo Homem\\nRui\\n2022\\nAmor Amor\\nSerafim...</td>\n",
       "    </tr>\n",
       "    <tr>\n",
       "      <th>9</th>\n",
       "      <td>PEDRO CARVALHO</td>\n",
       "      <td>O Segundo Homem\\nRui\\n2022\\nAmor Amor\\nSerafim...</td>\n",
       "    </tr>\n",
       "    <tr>\n",
       "      <th>10</th>\n",
       "      <td>CORIA CASTILLO</td>\n",
       "      <td>Fácil\\nÀngels\\nSerie de TV\\n2022\\n5 episodios</td>\n",
       "    </tr>\n",
       "    <tr>\n",
       "      <th>11</th>\n",
       "      <td>FEDE CELADA</td>\n",
       "      <td>Los hombres de Paco\\nCurtis\\nSerie de TV\\n2005...</td>\n",
       "    </tr>\n",
       "    <tr>\n",
       "      <th>12</th>\n",
       "      <td>JAVI COLL</td>\n",
       "      <td>Deudas\\nEsteban\\nSerie de TV\\n2021\\n13 episodi...</td>\n",
       "    </tr>\n",
       "    <tr>\n",
       "      <th>13</th>\n",
       "      <td>JAVI COLL</td>\n",
       "      <td>Deudas\\nEsteban\\nSerie de TV\\n2021\\n13 episodi...</td>\n",
       "    </tr>\n",
       "    <tr>\n",
       "      <th>14</th>\n",
       "      <td>PATRICK CRIADO</td>\n",
       "      <td>Has estado, hace tiempo\\nCorto\\n2022\\nRemember...</td>\n",
       "    </tr>\n",
       "    <tr>\n",
       "      <th>15</th>\n",
       "      <td>PATRICK CRIADO</td>\n",
       "      <td>Has estado, hace tiempo\\nCorto\\n2022\\nRemember...</td>\n",
       "    </tr>\n",
       "    <tr>\n",
       "      <th>16</th>\n",
       "      <td>JASON DAY</td>\n",
       "      <td>El agente nocturno\\nGlen\\nSerie de TV\\n2023\\n1...</td>\n",
       "    </tr>\n",
       "    <tr>\n",
       "      <th>17</th>\n",
       "      <td>JASON DAY</td>\n",
       "      <td>El agente nocturno\\nGlen\\nSerie de TV\\n2023\\n1...</td>\n",
       "    </tr>\n",
       "    <tr>\n",
       "      <th>18</th>\n",
       "      <td>ANDREA DUESO</td>\n",
       "      <td>Madres. Amor y vida\\nSerie de TV\\n2022\\n2 epis...</td>\n",
       "    </tr>\n",
       "  </tbody>\n",
       "</table>\n",
       "</div>"
      ],
      "text/plain": [
       "                actor                                           trabajos\n",
       "0   DANIEL ALBALADEJO  Alumbramiento\\nPsicólogo\\nCorto\\n2022\\nLa noch...\n",
       "1      ENRIQUE ASENJO  Reyes contra Santa\\nPolicía 1\\n2022\\nPocos, bu...\n",
       "2       DAFNIS BALDUZ  Los renglones torcidos de Dios\\nInspector Soto...\n",
       "3      MARINA BELLATI  Adios Buenos Aires\\nMariela Martínez\\n2023\\nEl...\n",
       "4          ANA BOKESA  Élite\\nRocío (as Ana Bokesa)\\nSerie de TV\\n202...\n",
       "5         JORGE CALVO  Calle de la Humanidad, 8\\nDiego Romano, le con...\n",
       "6         JORGE CALVO  Calle de la Humanidad, 8\\nDiego Romano, le con...\n",
       "7     JACOBO CAMARENA          HIT\\nTeo\\nSerie de TV\\n2021\\n10 episodios\n",
       "8      PEDRO CARVALHO  O Segundo Homem\\nRui\\n2022\\nAmor Amor\\nSerafim...\n",
       "9      PEDRO CARVALHO  O Segundo Homem\\nRui\\n2022\\nAmor Amor\\nSerafim...\n",
       "10     CORIA CASTILLO      Fácil\\nÀngels\\nSerie de TV\\n2022\\n5 episodios\n",
       "11        FEDE CELADA  Los hombres de Paco\\nCurtis\\nSerie de TV\\n2005...\n",
       "12          JAVI COLL  Deudas\\nEsteban\\nSerie de TV\\n2021\\n13 episodi...\n",
       "13          JAVI COLL  Deudas\\nEsteban\\nSerie de TV\\n2021\\n13 episodi...\n",
       "14     PATRICK CRIADO  Has estado, hace tiempo\\nCorto\\n2022\\nRemember...\n",
       "15     PATRICK CRIADO  Has estado, hace tiempo\\nCorto\\n2022\\nRemember...\n",
       "16          JASON DAY  El agente nocturno\\nGlen\\nSerie de TV\\n2023\\n1...\n",
       "17          JASON DAY  El agente nocturno\\nGlen\\nSerie de TV\\n2023\\n1...\n",
       "18       ANDREA DUESO  Madres. Amor y vida\\nSerie de TV\\n2022\\n2 epis..."
      ]
     },
     "execution_count": 83,
     "metadata": {},
     "output_type": "execute_result"
    }
   ],
   "source": [
    "df_trabajos = pd.DataFrame(dicc)\n",
    "df_trabajos"
   ]
  }
 ],
 "metadata": {
  "kernelspec": {
   "display_name": "Ironhack",
   "language": "python",
   "name": "python3"
  },
  "language_info": {
   "codemirror_mode": {
    "name": "ipython",
    "version": 3
   },
   "file_extension": ".py",
   "mimetype": "text/x-python",
   "name": "python",
   "nbconvert_exporter": "python",
   "pygments_lexer": "ipython3",
   "version": "3.9.13"
  },
  "orig_nbformat": 4
 },
 "nbformat": 4,
 "nbformat_minor": 2
}
