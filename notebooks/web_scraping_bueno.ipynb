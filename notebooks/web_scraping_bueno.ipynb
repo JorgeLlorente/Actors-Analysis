{
 "cells": [
  {
   "cell_type": "code",
   "execution_count": 63,
   "metadata": {},
   "outputs": [],
   "source": [
    "import pandas as pd\n",
    "import numpy as numpy\n",
    "\n",
    "import re\n",
    "from bs4 import BeautifulSoup\n",
    "from time import sleep\n",
    "from selenium import webdriver\n",
    "from webdriver_manager.chrome import ChromeDriverManager\n",
    "from selenium.webdriver.common.keys import Keys\n",
    "from selenium.webdriver.chrome.options import Options\n",
    "from selenium.common.exceptions import NoSuchElementException\n",
    "from selenium.webdriver.common.by import By\n",
    "from selenium.webdriver.support.ui import WebDriverWait\n",
    "from selenium.webdriver.support import expected_conditions\n",
    "\n",
    "import itertools\n",
    "import requests\n",
    "\n",
    "import gender_guesser.detector as gender\n",
    "\n",
    "import warnings\n",
    "warnings.filterwarnings('ignore')"
   ]
  },
  {
   "attachments": {},
   "cell_type": "markdown",
   "metadata": {},
   "source": [
    "#### Borial Management"
   ]
  },
  {
   "cell_type": "code",
   "execution_count": 43,
   "metadata": {},
   "outputs": [],
   "source": [
    "url = \"https://borialmanagement.com/\"\n",
    "res1 = requests.get(url)\n",
    "sopa = BeautifulSoup(res1.content, 'html.parser')\n",
    "tags = sopa.find_all(\"h4\", {\"class\": \"personName toBold\"})"
   ]
  },
  {
   "cell_type": "code",
   "execution_count": 44,
   "metadata": {},
   "outputs": [],
   "source": [
    "actores = []\n",
    "for tag in tags:\n",
    "    actores.append(tag.text)"
   ]
  },
  {
   "cell_type": "code",
   "execution_count": 45,
   "metadata": {},
   "outputs": [],
   "source": [
    "actores.remove('GONZALO FERNГЃNDEZ')\n",
    "actores.remove('VГЌCTOR CASTILLO')\n",
    "actores.remove('ГЃLVARO QUINTANA')\n",
    "actores.remove('CARLA DГЌAZ')\n",
    "actores.remove('MARIO GARCГЌA')\n",
    "actores.remove('SANTI MARГЌN')\n",
    "actores.remove('ГЃLVARO FONTALBA')"
   ]
  },
  {
   "cell_type": "code",
   "execution_count": 46,
   "metadata": {},
   "outputs": [],
   "source": [
    "actores2 = []\n",
    "for actor in actores:\n",
    "    if len(re.findall(\"\\W\", actor)) > 1:\n",
    "        pass\n",
    "    else:\n",
    "        actores2.append(actor)"
   ]
  },
  {
   "cell_type": "code",
   "execution_count": 47,
   "metadata": {},
   "outputs": [],
   "source": [
    "actores3 = []\n",
    "for actor in actores2:\n",
    "    actores3.append(actor.split())"
   ]
  },
  {
   "cell_type": "code",
   "execution_count": 48,
   "metadata": {},
   "outputs": [],
   "source": [
    "d = gender.Detector()\n",
    "\n",
    "nombres_por_genero = {\"masculino\": [], \"femenino\": []}\n",
    "\n",
    "for nombre in actores3:\n",
    "    nombre_completo = nombre[0].capitalize() + nombre[1].capitalize()\n",
    "    genero = d.get_gender(nombre[0].capitalize())\n",
    "    if genero == \"male\":\n",
    "        nombres_por_genero[\"masculino\"].append(nombre_completo)\n",
    "    elif genero == \"female\":\n",
    "        nombres_por_genero[\"femenino\"].append(nombre_completo)"
   ]
  },
  {
   "cell_type": "code",
   "execution_count": 49,
   "metadata": {},
   "outputs": [
    {
     "ename": "NoSuchWindowException",
     "evalue": "Message: no such window: target window already closed\nfrom unknown error: web view not found\n  (Session info: chrome=112.0.5615.49)\nStacktrace:\nBacktrace:\n\tGetHandleVerifier [0x00D6DCE3+50899]\n\t(No symbol) [0x00CFE111]\n\t(No symbol) [0x00C05588]\n\t(No symbol) [0x00BED333]\n\t(No symbol) [0x00C4F4DB]\n\t(No symbol) [0x00C5DB33]\n\t(No symbol) [0x00C4B6F6]\n\t(No symbol) [0x00C27708]\n\t(No symbol) [0x00C2886D]\n\tGetHandleVerifier [0x00FD3EAE+2566302]\n\tGetHandleVerifier [0x010092B1+2784417]\n\tGetHandleVerifier [0x0100327C+2759788]\n\tGetHandleVerifier [0x00E05740+672048]\n\t(No symbol) [0x00D08872]\n\t(No symbol) [0x00D041C8]\n\t(No symbol) [0x00D042AB]\n\t(No symbol) [0x00CF71B7]\n\tBaseThreadInitThunk [0x75F37D69+25]\n\tRtlInitializeExceptionChain [0x7707B74B+107]\n\tRtlClearBits [0x7707B6CF+191]\n",
     "output_type": "error",
     "traceback": [
      "\u001b[1;31m---------------------------------------------------------------------------\u001b[0m",
      "\u001b[1;31mNoSuchWindowException\u001b[0m                     Traceback (most recent call last)",
      "\u001b[1;32mc:\\Users\\jorge\\OneDrive\\Escritorio\\IronHack\\Work\\Proyecto Final\\notebooks\\web_scraping_bueno.ipynb Cell 9\u001b[0m in \u001b[0;36m1\n\u001b[0;32m     <a href='vscode-notebook-cell:/c%3A/Users/jorge/OneDrive/Escritorio/IronHack/Work/Proyecto%20Final/notebooks/web_scraping_bueno.ipynb#X12sZmlsZQ%3D%3D?line=15'>16</a>\u001b[0m driver\u001b[39m.\u001b[39mget(url)\n\u001b[0;32m     <a href='vscode-notebook-cell:/c%3A/Users/jorge/OneDrive/Escritorio/IronHack/Work/Proyecto%20Final/notebooks/web_scraping_bueno.ipynb#X12sZmlsZQ%3D%3D?line=16'>17</a>\u001b[0m driver\u001b[39m.\u001b[39mimplicitly_wait(\u001b[39m10\u001b[39m)\n\u001b[1;32m---> <a href='vscode-notebook-cell:/c%3A/Users/jorge/OneDrive/Escritorio/IronHack/Work/Proyecto%20Final/notebooks/web_scraping_bueno.ipynb#X12sZmlsZQ%3D%3D?line=17'>18</a>\u001b[0m resultado \u001b[39m=\u001b[39m driver\u001b[39m.\u001b[39;49mfind_element(\u001b[39m\"\u001b[39;49m\u001b[39mcss selector\u001b[39;49m\u001b[39m\"\u001b[39;49m, \u001b[39m\"\u001b[39;49m\u001b[39mbody > div:nth-child(3) > div > div:nth-child(2) > div\u001b[39;49m\u001b[39m\"\u001b[39;49m)\u001b[39m.\u001b[39mtext\n\u001b[0;32m     <a href='vscode-notebook-cell:/c%3A/Users/jorge/OneDrive/Escritorio/IronHack/Work/Proyecto%20Final/notebooks/web_scraping_bueno.ipynb#X12sZmlsZQ%3D%3D?line=18'>19</a>\u001b[0m resultado \u001b[39m=\u001b[39m resultado\u001b[39m.\u001b[39msplit(\u001b[39m\"\u001b[39m\u001b[39m\\n\u001b[39;00m\u001b[39m\"\u001b[39m)\n\u001b[0;32m     <a href='vscode-notebook-cell:/c%3A/Users/jorge/OneDrive/Escritorio/IronHack/Work/Proyecto%20Final/notebooks/web_scraping_bueno.ipynb#X12sZmlsZQ%3D%3D?line=19'>20</a>\u001b[0m \u001b[39mif\u001b[39;00m resultado[\u001b[39m1\u001b[39m] \u001b[39m==\u001b[39m \u001b[39m\"\u001b[39m\u001b[39mFORMACIÓN\u001b[39m\u001b[39m\"\u001b[39m:\n",
      "File \u001b[1;32mc:\\Users\\jorge\\anaconda3\\envs\\Ironhack\\lib\\site-packages\\selenium\\webdriver\\remote\\webdriver.py:861\u001b[0m, in \u001b[0;36mWebDriver.find_element\u001b[1;34m(self, by, value)\u001b[0m\n\u001b[0;32m    858\u001b[0m     by \u001b[39m=\u001b[39m By\u001b[39m.\u001b[39mCSS_SELECTOR\n\u001b[0;32m    859\u001b[0m     value \u001b[39m=\u001b[39m \u001b[39m'\u001b[39m\u001b[39m[name=\u001b[39m\u001b[39m\"\u001b[39m\u001b[39m%s\u001b[39;00m\u001b[39m\"\u001b[39m\u001b[39m]\u001b[39m\u001b[39m'\u001b[39m \u001b[39m%\u001b[39m value\n\u001b[1;32m--> 861\u001b[0m \u001b[39mreturn\u001b[39;00m \u001b[39mself\u001b[39;49m\u001b[39m.\u001b[39;49mexecute(Command\u001b[39m.\u001b[39;49mFIND_ELEMENT, {\u001b[39m\"\u001b[39;49m\u001b[39musing\u001b[39;49m\u001b[39m\"\u001b[39;49m: by, \u001b[39m\"\u001b[39;49m\u001b[39mvalue\u001b[39;49m\u001b[39m\"\u001b[39;49m: value})[\u001b[39m\"\u001b[39m\u001b[39mvalue\u001b[39m\u001b[39m\"\u001b[39m]\n",
      "File \u001b[1;32mc:\\Users\\jorge\\anaconda3\\envs\\Ironhack\\lib\\site-packages\\selenium\\webdriver\\remote\\webdriver.py:444\u001b[0m, in \u001b[0;36mWebDriver.execute\u001b[1;34m(self, driver_command, params)\u001b[0m\n\u001b[0;32m    442\u001b[0m response \u001b[39m=\u001b[39m \u001b[39mself\u001b[39m\u001b[39m.\u001b[39mcommand_executor\u001b[39m.\u001b[39mexecute(driver_command, params)\n\u001b[0;32m    443\u001b[0m \u001b[39mif\u001b[39;00m response:\n\u001b[1;32m--> 444\u001b[0m     \u001b[39mself\u001b[39;49m\u001b[39m.\u001b[39;49merror_handler\u001b[39m.\u001b[39;49mcheck_response(response)\n\u001b[0;32m    445\u001b[0m     response[\u001b[39m\"\u001b[39m\u001b[39mvalue\u001b[39m\u001b[39m\"\u001b[39m] \u001b[39m=\u001b[39m \u001b[39mself\u001b[39m\u001b[39m.\u001b[39m_unwrap_value(response\u001b[39m.\u001b[39mget(\u001b[39m\"\u001b[39m\u001b[39mvalue\u001b[39m\u001b[39m\"\u001b[39m, \u001b[39mNone\u001b[39;00m))\n\u001b[0;32m    446\u001b[0m     \u001b[39mreturn\u001b[39;00m response\n",
      "File \u001b[1;32mc:\\Users\\jorge\\anaconda3\\envs\\Ironhack\\lib\\site-packages\\selenium\\webdriver\\remote\\errorhandler.py:249\u001b[0m, in \u001b[0;36mErrorHandler.check_response\u001b[1;34m(self, response)\u001b[0m\n\u001b[0;32m    247\u001b[0m         alert_text \u001b[39m=\u001b[39m value[\u001b[39m\"\u001b[39m\u001b[39malert\u001b[39m\u001b[39m\"\u001b[39m]\u001b[39m.\u001b[39mget(\u001b[39m\"\u001b[39m\u001b[39mtext\u001b[39m\u001b[39m\"\u001b[39m)\n\u001b[0;32m    248\u001b[0m     \u001b[39mraise\u001b[39;00m exception_class(message, screen, stacktrace, alert_text)  \u001b[39m# type: ignore[call-arg]  # mypy is not smart enough here\u001b[39;00m\n\u001b[1;32m--> 249\u001b[0m \u001b[39mraise\u001b[39;00m exception_class(message, screen, stacktrace)\n",
      "\u001b[1;31mNoSuchWindowException\u001b[0m: Message: no such window: target window already closed\nfrom unknown error: web view not found\n  (Session info: chrome=112.0.5615.49)\nStacktrace:\nBacktrace:\n\tGetHandleVerifier [0x00D6DCE3+50899]\n\t(No symbol) [0x00CFE111]\n\t(No symbol) [0x00C05588]\n\t(No symbol) [0x00BED333]\n\t(No symbol) [0x00C4F4DB]\n\t(No symbol) [0x00C5DB33]\n\t(No symbol) [0x00C4B6F6]\n\t(No symbol) [0x00C27708]\n\t(No symbol) [0x00C2886D]\n\tGetHandleVerifier [0x00FD3EAE+2566302]\n\tGetHandleVerifier [0x010092B1+2784417]\n\tGetHandleVerifier [0x0100327C+2759788]\n\tGetHandleVerifier [0x00E05740+672048]\n\t(No symbol) [0x00D08872]\n\t(No symbol) [0x00D041C8]\n\t(No symbol) [0x00D042AB]\n\t(No symbol) [0x00CF71B7]\n\tBaseThreadInitThunk [0x75F37D69+25]\n\tRtlInitializeExceptionChain [0x7707B74B+107]\n\tRtlClearBits [0x7707B6CF+191]\n"
     ]
    }
   ],
   "source": [
    "opciones= Options()\n",
    "opciones.add_experimental_option('excludeSwitches', ['enable-automation'])\n",
    "#para ocultarme como robot\n",
    "opciones.add_experimental_option('useAutomationExtension', False)\n",
    "opciones.add_argument('--start-maximized') #empezar maximizado\n",
    "opciones.add_argument('user.data-dir=selenium') #guarda las cookies\n",
    "opciones.add_argument('--incognito')#incognito window\n",
    "\n",
    "dicc = {\"actor\": [], \"formacion\": []}\n",
    "\n",
    "for k, v in nombres_por_genero.items():\n",
    "    if k == \"masculino\":\n",
    "        for k in range(len(v)):\n",
    "            url = f\"https://borialmanagement.com/actores/{nombres_por_genero['masculino'][k]}\"\n",
    "            driver = webdriver.Chrome(ChromeDriverManager().install())\n",
    "            driver.get(url)\n",
    "            driver.implicitly_wait(10)\n",
    "            resultado = driver.find_element(\"css selector\", \"body > div:nth-child(3) > div > div:nth-child(2) > div\").text\n",
    "            resultado = resultado.split(\"\\n\")\n",
    "            if resultado[1] == \"FORMACIÓN\":\n",
    "                artista = resultado[0].lower()\n",
    "                resultado.pop(0)\n",
    "                resultado.pop(0)\n",
    "                i = 0\n",
    "                while resultado[i] != \"TELEVISIÓN\":\n",
    "                    dicc[\"formacion\"].append(resultado[i])\n",
    "                    dicc[\"actor\"].append(artista)\n",
    "                    i+=1\n",
    "            else:\n",
    "                dicc[\"formacion\"].append(\"no hay formación\")\n",
    "                dicc[\"actor\"].append(artista)\n",
    "    else:\n",
    "        for k in range(len(v)):\n",
    "            url = f\"https://borialmanagement.com/actrices/{nombres_por_genero['femenino'][k]}\"\n",
    "            driver = webdriver.Chrome(ChromeDriverManager().install())\n",
    "            driver.get(url)\n",
    "            driver.implicitly_wait(10)\n",
    "            resultado = driver.find_element(\"css selector\", \"body > div:nth-child(3) > div > div:nth-child(2) > div\").text\n",
    "            resultado = resultado.split(\"\\n\")\n",
    "            if resultado[1] == \"FORMACIÓN\":\n",
    "                artista = resultado[0].lower()\n",
    "                resultado.pop(0)\n",
    "                resultado.pop(0)\n",
    "                i = 0\n",
    "                print(len(resultado))\n",
    "                while (resultado[i] != \"TELEVISIÓN\") and (resultado[i] != \"TEATRO\") and (resultado[i] != \"CINE\"):\n",
    "                    print(i)\n",
    "                    dicc[\"formacion\"].append(resultado[i])\n",
    "                    dicc[\"actor\"].append(artista)\n",
    "                    i+=1\n",
    "            else:\n",
    "                dicc[\"formacion\"].append(\"no hay formación\")\n",
    "                dicc[\"actor\"].append(artista)"
   ]
  },
  {
   "cell_type": "code",
   "execution_count": null,
   "metadata": {},
   "outputs": [
    {
     "data": {
      "text/html": [
       "<div>\n",
       "<style scoped>\n",
       "    .dataframe tbody tr th:only-of-type {\n",
       "        vertical-align: middle;\n",
       "    }\n",
       "\n",
       "    .dataframe tbody tr th {\n",
       "        vertical-align: top;\n",
       "    }\n",
       "\n",
       "    .dataframe thead th {\n",
       "        text-align: right;\n",
       "    }\n",
       "</style>\n",
       "<table border=\"1\" class=\"dataframe\">\n",
       "  <thead>\n",
       "    <tr style=\"text-align: right;\">\n",
       "      <th></th>\n",
       "      <th>actor</th>\n",
       "      <th>formacion</th>\n",
       "    </tr>\n",
       "  </thead>\n",
       "  <tbody>\n",
       "    <tr>\n",
       "      <th>0</th>\n",
       "      <td>daniel albaladejo</td>\n",
       "      <td>Licenciado en Interpretación por la E.S.A.D. d...</td>\n",
       "    </tr>\n",
       "    <tr>\n",
       "      <th>1</th>\n",
       "      <td>daniel albaladejo</td>\n",
       "      <td>Cursos de perfeccionamiento con:</td>\n",
       "    </tr>\n",
       "  </tbody>\n",
       "</table>\n",
       "</div>"
      ],
      "text/plain": [
       "               actor                                          formacion\n",
       "0  daniel albaladejo  Licenciado en Interpretación por la E.S.A.D. d...\n",
       "1  daniel albaladejo                   Cursos de perfeccionamiento con:"
      ]
     },
     "execution_count": 139,
     "metadata": {},
     "output_type": "execute_result"
    }
   ],
   "source": [
    "df_borial = pd.DataFrame(dicc)\n",
    "df_borial.head(2)"
   ]
  },
  {
   "attachments": {},
   "cell_type": "markdown",
   "metadata": {},
   "source": [
    "#### Única Representaciones"
   ]
  },
  {
   "cell_type": "code",
   "execution_count": null,
   "metadata": {},
   "outputs": [],
   "source": [
    "url = \"https://www.unicarepresentaciones.com/Actores\"\n",
    "res1 = requests.get(url)\n",
    "sopa = BeautifulSoup(res1.content, 'html.parser')\n",
    "tags = sopa.find_all(\"div\", {\"class\": \"views-field views-field-title\"})"
   ]
  },
  {
   "cell_type": "code",
   "execution_count": null,
   "metadata": {},
   "outputs": [],
   "source": [
    "h_unica = []\n",
    "for tag in tags:\n",
    "    h_unica.append(tag.text)"
   ]
  },
  {
   "cell_type": "code",
   "execution_count": null,
   "metadata": {},
   "outputs": [],
   "source": [
    "url = \"https://www.unicarepresentaciones.com/Actrices\"\n",
    "res1 = requests.get(url)\n",
    "sopa = BeautifulSoup(res1.content, 'html.parser')\n",
    "tags = sopa.find_all(\"div\", {\"class\": \"views-field views-field-title\"})"
   ]
  },
  {
   "cell_type": "code",
   "execution_count": null,
   "metadata": {},
   "outputs": [],
   "source": [
    "m_unica = []\n",
    "for tag in tags:\n",
    "    m_unica.append(tag.text)"
   ]
  },
  {
   "cell_type": "code",
   "execution_count": null,
   "metadata": {},
   "outputs": [],
   "source": [
    "actores_unica = h_unica+m_unica"
   ]
  },
  {
   "cell_type": "code",
   "execution_count": null,
   "metadata": {},
   "outputs": [],
   "source": [
    "h_unica_scrap = []\n",
    "for actor in (h_unica):\n",
    "    h_unica_scrap.append(actor.strip().replace(\" \", \"-\").lower())"
   ]
  },
  {
   "cell_type": "code",
   "execution_count": null,
   "metadata": {},
   "outputs": [],
   "source": [
    "m_unica_scrap = []\n",
    "for actriz in (m_unica):\n",
    "    m_unica_scrap.append(actriz.strip().replace(\" \", \"-\").lower())"
   ]
  },
  {
   "cell_type": "code",
   "execution_count": null,
   "metadata": {},
   "outputs": [],
   "source": [
    "unica_scrap = h_unica_scrap+m_unica_scrap"
   ]
  },
  {
   "cell_type": "code",
   "execution_count": null,
   "metadata": {},
   "outputs": [
    {
     "ename": "KeyboardInterrupt",
     "evalue": "",
     "output_type": "error",
     "traceback": [
      "\u001b[1;31m---------------------------------------------------------------------------\u001b[0m",
      "\u001b[1;31mKeyboardInterrupt\u001b[0m                         Traceback (most recent call last)",
      "\u001b[1;32mc:\\Users\\jorge\\OneDrive\\Escritorio\\IronHack\\Work\\Proyecto Final\\notebooks\\web_scraping_bueno.ipynb Cell 20\u001b[0m in \u001b[0;36m1\n\u001b[0;32m     <a href='vscode-notebook-cell:/c%3A/Users/jorge/OneDrive/Escritorio/IronHack/Work/Proyecto%20Final/notebooks/web_scraping_bueno.ipynb#X26sZmlsZQ%3D%3D?line=11'>12</a>\u001b[0m url \u001b[39m=\u001b[39m \u001b[39mf\u001b[39m\u001b[39m\"\u001b[39m\u001b[39mhttps://www.unicarepresentaciones.com/actores-actrices/\u001b[39m\u001b[39m{\u001b[39;00mactor\u001b[39m}\u001b[39;00m\u001b[39m\"\u001b[39m\n\u001b[0;32m     <a href='vscode-notebook-cell:/c%3A/Users/jorge/OneDrive/Escritorio/IronHack/Work/Proyecto%20Final/notebooks/web_scraping_bueno.ipynb#X26sZmlsZQ%3D%3D?line=12'>13</a>\u001b[0m driver \u001b[39m=\u001b[39m webdriver\u001b[39m.\u001b[39mChrome(ChromeDriverManager()\u001b[39m.\u001b[39minstall())\n\u001b[1;32m---> <a href='vscode-notebook-cell:/c%3A/Users/jorge/OneDrive/Escritorio/IronHack/Work/Proyecto%20Final/notebooks/web_scraping_bueno.ipynb#X26sZmlsZQ%3D%3D?line=13'>14</a>\u001b[0m driver\u001b[39m.\u001b[39;49mget(url)\n\u001b[0;32m     <a href='vscode-notebook-cell:/c%3A/Users/jorge/OneDrive/Escritorio/IronHack/Work/Proyecto%20Final/notebooks/web_scraping_bueno.ipynb#X26sZmlsZQ%3D%3D?line=14'>15</a>\u001b[0m driver\u001b[39m.\u001b[39mimplicitly_wait(\u001b[39m10\u001b[39m)\n\u001b[0;32m     <a href='vscode-notebook-cell:/c%3A/Users/jorge/OneDrive/Escritorio/IronHack/Work/Proyecto%20Final/notebooks/web_scraping_bueno.ipynb#X26sZmlsZQ%3D%3D?line=15'>16</a>\u001b[0m cv \u001b[39m=\u001b[39m driver\u001b[39m.\u001b[39mfind_element(\u001b[39m\"\u001b[39m\u001b[39mcss selector\u001b[39m\u001b[39m\"\u001b[39m, \u001b[39m\"\u001b[39m\u001b[39m#block-system-main > div > div.ficha-actores > div.ficha-col-1\u001b[39m\u001b[39m\"\u001b[39m)\u001b[39m.\u001b[39mtext\n",
      "File \u001b[1;32mc:\\Users\\jorge\\anaconda3\\envs\\Ironhack\\lib\\site-packages\\selenium\\webdriver\\remote\\webdriver.py:455\u001b[0m, in \u001b[0;36mWebDriver.get\u001b[1;34m(self, url)\u001b[0m\n\u001b[0;32m    451\u001b[0m \u001b[39mdef\u001b[39;00m \u001b[39mget\u001b[39m(\u001b[39mself\u001b[39m, url: \u001b[39mstr\u001b[39m) \u001b[39m-\u001b[39m\u001b[39m>\u001b[39m \u001b[39mNone\u001b[39;00m:\n\u001b[0;32m    452\u001b[0m \u001b[39m    \u001b[39m\u001b[39m\"\"\"\u001b[39;00m\n\u001b[0;32m    453\u001b[0m \u001b[39m    Loads a web page in the current browser session.\u001b[39;00m\n\u001b[0;32m    454\u001b[0m \u001b[39m    \"\"\"\u001b[39;00m\n\u001b[1;32m--> 455\u001b[0m     \u001b[39mself\u001b[39;49m\u001b[39m.\u001b[39;49mexecute(Command\u001b[39m.\u001b[39;49mGET, {\u001b[39m\"\u001b[39;49m\u001b[39murl\u001b[39;49m\u001b[39m\"\u001b[39;49m: url})\n",
      "File \u001b[1;32mc:\\Users\\jorge\\anaconda3\\envs\\Ironhack\\lib\\site-packages\\selenium\\webdriver\\remote\\webdriver.py:442\u001b[0m, in \u001b[0;36mWebDriver.execute\u001b[1;34m(self, driver_command, params)\u001b[0m\n\u001b[0;32m    439\u001b[0m     \u001b[39melif\u001b[39;00m \u001b[39m\"\u001b[39m\u001b[39msessionId\u001b[39m\u001b[39m\"\u001b[39m \u001b[39mnot\u001b[39;00m \u001b[39min\u001b[39;00m params:\n\u001b[0;32m    440\u001b[0m         params[\u001b[39m\"\u001b[39m\u001b[39msessionId\u001b[39m\u001b[39m\"\u001b[39m] \u001b[39m=\u001b[39m \u001b[39mself\u001b[39m\u001b[39m.\u001b[39msession_id\n\u001b[1;32m--> 442\u001b[0m response \u001b[39m=\u001b[39m \u001b[39mself\u001b[39;49m\u001b[39m.\u001b[39;49mcommand_executor\u001b[39m.\u001b[39;49mexecute(driver_command, params)\n\u001b[0;32m    443\u001b[0m \u001b[39mif\u001b[39;00m response:\n\u001b[0;32m    444\u001b[0m     \u001b[39mself\u001b[39m\u001b[39m.\u001b[39merror_handler\u001b[39m.\u001b[39mcheck_response(response)\n",
      "File \u001b[1;32mc:\\Users\\jorge\\anaconda3\\envs\\Ironhack\\lib\\site-packages\\selenium\\webdriver\\remote\\remote_connection.py:294\u001b[0m, in \u001b[0;36mRemoteConnection.execute\u001b[1;34m(self, command, params)\u001b[0m\n\u001b[0;32m    292\u001b[0m data \u001b[39m=\u001b[39m utils\u001b[39m.\u001b[39mdump_json(params)\n\u001b[0;32m    293\u001b[0m url \u001b[39m=\u001b[39m \u001b[39mf\u001b[39m\u001b[39m\"\u001b[39m\u001b[39m{\u001b[39;00m\u001b[39mself\u001b[39m\u001b[39m.\u001b[39m_url\u001b[39m}\u001b[39;00m\u001b[39m{\u001b[39;00mpath\u001b[39m}\u001b[39;00m\u001b[39m\"\u001b[39m\n\u001b[1;32m--> 294\u001b[0m \u001b[39mreturn\u001b[39;00m \u001b[39mself\u001b[39;49m\u001b[39m.\u001b[39;49m_request(command_info[\u001b[39m0\u001b[39;49m], url, body\u001b[39m=\u001b[39;49mdata)\n",
      "File \u001b[1;32mc:\\Users\\jorge\\anaconda3\\envs\\Ironhack\\lib\\site-packages\\selenium\\webdriver\\remote\\remote_connection.py:316\u001b[0m, in \u001b[0;36mRemoteConnection._request\u001b[1;34m(self, method, url, body)\u001b[0m\n\u001b[0;32m    313\u001b[0m     body \u001b[39m=\u001b[39m \u001b[39mNone\u001b[39;00m\n\u001b[0;32m    315\u001b[0m \u001b[39mif\u001b[39;00m \u001b[39mself\u001b[39m\u001b[39m.\u001b[39mkeep_alive:\n\u001b[1;32m--> 316\u001b[0m     response \u001b[39m=\u001b[39m \u001b[39mself\u001b[39;49m\u001b[39m.\u001b[39;49m_conn\u001b[39m.\u001b[39;49mrequest(method, url, body\u001b[39m=\u001b[39;49mbody, headers\u001b[39m=\u001b[39;49mheaders)\n\u001b[0;32m    317\u001b[0m     statuscode \u001b[39m=\u001b[39m response\u001b[39m.\u001b[39mstatus\n\u001b[0;32m    318\u001b[0m \u001b[39melse\u001b[39;00m:\n",
      "File \u001b[1;32mc:\\Users\\jorge\\anaconda3\\envs\\Ironhack\\lib\\site-packages\\urllib3\\request.py:78\u001b[0m, in \u001b[0;36mRequestMethods.request\u001b[1;34m(self, method, url, fields, headers, **urlopen_kw)\u001b[0m\n\u001b[0;32m     74\u001b[0m     \u001b[39mreturn\u001b[39;00m \u001b[39mself\u001b[39m\u001b[39m.\u001b[39mrequest_encode_url(\n\u001b[0;32m     75\u001b[0m         method, url, fields\u001b[39m=\u001b[39mfields, headers\u001b[39m=\u001b[39mheaders, \u001b[39m*\u001b[39m\u001b[39m*\u001b[39murlopen_kw\n\u001b[0;32m     76\u001b[0m     )\n\u001b[0;32m     77\u001b[0m \u001b[39melse\u001b[39;00m:\n\u001b[1;32m---> 78\u001b[0m     \u001b[39mreturn\u001b[39;00m \u001b[39mself\u001b[39m\u001b[39m.\u001b[39mrequest_encode_body(\n\u001b[0;32m     79\u001b[0m         method, url, fields\u001b[39m=\u001b[39mfields, headers\u001b[39m=\u001b[39mheaders, \u001b[39m*\u001b[39m\u001b[39m*\u001b[39murlopen_kw\n\u001b[0;32m     80\u001b[0m     )\n",
      "File \u001b[1;32mc:\\Users\\jorge\\anaconda3\\envs\\Ironhack\\lib\\site-packages\\urllib3\\request.py:170\u001b[0m, in \u001b[0;36mRequestMethods.request_encode_body\u001b[1;34m(self, method, url, fields, headers, encode_multipart, multipart_boundary, **urlopen_kw)\u001b[0m\n\u001b[0;32m    167\u001b[0m extra_kw[\u001b[39m\"\u001b[39m\u001b[39mheaders\u001b[39m\u001b[39m\"\u001b[39m]\u001b[39m.\u001b[39mupdate(headers)\n\u001b[0;32m    168\u001b[0m extra_kw\u001b[39m.\u001b[39mupdate(urlopen_kw)\n\u001b[1;32m--> 170\u001b[0m \u001b[39mreturn\u001b[39;00m \u001b[39mself\u001b[39m\u001b[39m.\u001b[39murlopen(method, url, \u001b[39m*\u001b[39m\u001b[39m*\u001b[39mextra_kw)\n",
      "File \u001b[1;32mc:\\Users\\jorge\\anaconda3\\envs\\Ironhack\\lib\\site-packages\\urllib3\\poolmanager.py:376\u001b[0m, in \u001b[0;36mPoolManager.urlopen\u001b[1;34m(self, method, url, redirect, **kw)\u001b[0m\n\u001b[0;32m    374\u001b[0m     response \u001b[39m=\u001b[39m conn\u001b[39m.\u001b[39murlopen(method, url, \u001b[39m*\u001b[39m\u001b[39m*\u001b[39mkw)\n\u001b[0;32m    375\u001b[0m \u001b[39melse\u001b[39;00m:\n\u001b[1;32m--> 376\u001b[0m     response \u001b[39m=\u001b[39m conn\u001b[39m.\u001b[39murlopen(method, u\u001b[39m.\u001b[39mrequest_uri, \u001b[39m*\u001b[39m\u001b[39m*\u001b[39mkw)\n\u001b[0;32m    378\u001b[0m redirect_location \u001b[39m=\u001b[39m redirect \u001b[39mand\u001b[39;00m response\u001b[39m.\u001b[39mget_redirect_location()\n\u001b[0;32m    379\u001b[0m \u001b[39mif\u001b[39;00m \u001b[39mnot\u001b[39;00m redirect_location:\n",
      "File \u001b[1;32mc:\\Users\\jorge\\anaconda3\\envs\\Ironhack\\lib\\site-packages\\urllib3\\connectionpool.py:703\u001b[0m, in \u001b[0;36mHTTPConnectionPool.urlopen\u001b[1;34m(self, method, url, body, headers, retries, redirect, assert_same_host, timeout, pool_timeout, release_conn, chunked, body_pos, **response_kw)\u001b[0m\n\u001b[0;32m    700\u001b[0m     \u001b[39mself\u001b[39m\u001b[39m.\u001b[39m_prepare_proxy(conn)\n\u001b[0;32m    702\u001b[0m \u001b[39m# Make the request on the httplib connection object.\u001b[39;00m\n\u001b[1;32m--> 703\u001b[0m httplib_response \u001b[39m=\u001b[39m \u001b[39mself\u001b[39;49m\u001b[39m.\u001b[39;49m_make_request(\n\u001b[0;32m    704\u001b[0m     conn,\n\u001b[0;32m    705\u001b[0m     method,\n\u001b[0;32m    706\u001b[0m     url,\n\u001b[0;32m    707\u001b[0m     timeout\u001b[39m=\u001b[39;49mtimeout_obj,\n\u001b[0;32m    708\u001b[0m     body\u001b[39m=\u001b[39;49mbody,\n\u001b[0;32m    709\u001b[0m     headers\u001b[39m=\u001b[39;49mheaders,\n\u001b[0;32m    710\u001b[0m     chunked\u001b[39m=\u001b[39;49mchunked,\n\u001b[0;32m    711\u001b[0m )\n\u001b[0;32m    713\u001b[0m \u001b[39m# If we're going to release the connection in ``finally:``, then\u001b[39;00m\n\u001b[0;32m    714\u001b[0m \u001b[39m# the response doesn't need to know about the connection. Otherwise\u001b[39;00m\n\u001b[0;32m    715\u001b[0m \u001b[39m# it will also try to release it and we'll have a double-release\u001b[39;00m\n\u001b[0;32m    716\u001b[0m \u001b[39m# mess.\u001b[39;00m\n\u001b[0;32m    717\u001b[0m response_conn \u001b[39m=\u001b[39m conn \u001b[39mif\u001b[39;00m \u001b[39mnot\u001b[39;00m release_conn \u001b[39melse\u001b[39;00m \u001b[39mNone\u001b[39;00m\n",
      "File \u001b[1;32mc:\\Users\\jorge\\anaconda3\\envs\\Ironhack\\lib\\site-packages\\urllib3\\connectionpool.py:449\u001b[0m, in \u001b[0;36mHTTPConnectionPool._make_request\u001b[1;34m(self, conn, method, url, timeout, chunked, **httplib_request_kw)\u001b[0m\n\u001b[0;32m    444\u001b[0m             httplib_response \u001b[39m=\u001b[39m conn\u001b[39m.\u001b[39mgetresponse()\n\u001b[0;32m    445\u001b[0m         \u001b[39mexcept\u001b[39;00m \u001b[39mBaseException\u001b[39;00m \u001b[39mas\u001b[39;00m e:\n\u001b[0;32m    446\u001b[0m             \u001b[39m# Remove the TypeError from the exception chain in\u001b[39;00m\n\u001b[0;32m    447\u001b[0m             \u001b[39m# Python 3 (including for exceptions like SystemExit).\u001b[39;00m\n\u001b[0;32m    448\u001b[0m             \u001b[39m# Otherwise it looks like a bug in the code.\u001b[39;00m\n\u001b[1;32m--> 449\u001b[0m             six\u001b[39m.\u001b[39;49mraise_from(e, \u001b[39mNone\u001b[39;49;00m)\n\u001b[0;32m    450\u001b[0m \u001b[39mexcept\u001b[39;00m (SocketTimeout, BaseSSLError, SocketError) \u001b[39mas\u001b[39;00m e:\n\u001b[0;32m    451\u001b[0m     \u001b[39mself\u001b[39m\u001b[39m.\u001b[39m_raise_timeout(err\u001b[39m=\u001b[39me, url\u001b[39m=\u001b[39murl, timeout_value\u001b[39m=\u001b[39mread_timeout)\n",
      "File \u001b[1;32m<string>:3\u001b[0m, in \u001b[0;36mraise_from\u001b[1;34m(value, from_value)\u001b[0m\n",
      "File \u001b[1;32mc:\\Users\\jorge\\anaconda3\\envs\\Ironhack\\lib\\site-packages\\urllib3\\connectionpool.py:444\u001b[0m, in \u001b[0;36mHTTPConnectionPool._make_request\u001b[1;34m(self, conn, method, url, timeout, chunked, **httplib_request_kw)\u001b[0m\n\u001b[0;32m    441\u001b[0m \u001b[39mexcept\u001b[39;00m \u001b[39mTypeError\u001b[39;00m:\n\u001b[0;32m    442\u001b[0m     \u001b[39m# Python 3\u001b[39;00m\n\u001b[0;32m    443\u001b[0m     \u001b[39mtry\u001b[39;00m:\n\u001b[1;32m--> 444\u001b[0m         httplib_response \u001b[39m=\u001b[39m conn\u001b[39m.\u001b[39;49mgetresponse()\n\u001b[0;32m    445\u001b[0m     \u001b[39mexcept\u001b[39;00m \u001b[39mBaseException\u001b[39;00m \u001b[39mas\u001b[39;00m e:\n\u001b[0;32m    446\u001b[0m         \u001b[39m# Remove the TypeError from the exception chain in\u001b[39;00m\n\u001b[0;32m    447\u001b[0m         \u001b[39m# Python 3 (including for exceptions like SystemExit).\u001b[39;00m\n\u001b[0;32m    448\u001b[0m         \u001b[39m# Otherwise it looks like a bug in the code.\u001b[39;00m\n\u001b[0;32m    449\u001b[0m         six\u001b[39m.\u001b[39mraise_from(e, \u001b[39mNone\u001b[39;00m)\n",
      "File \u001b[1;32mc:\\Users\\jorge\\anaconda3\\envs\\Ironhack\\lib\\http\\client.py:1377\u001b[0m, in \u001b[0;36mHTTPConnection.getresponse\u001b[1;34m(self)\u001b[0m\n\u001b[0;32m   1375\u001b[0m \u001b[39mtry\u001b[39;00m:\n\u001b[0;32m   1376\u001b[0m     \u001b[39mtry\u001b[39;00m:\n\u001b[1;32m-> 1377\u001b[0m         response\u001b[39m.\u001b[39;49mbegin()\n\u001b[0;32m   1378\u001b[0m     \u001b[39mexcept\u001b[39;00m \u001b[39mConnectionError\u001b[39;00m:\n\u001b[0;32m   1379\u001b[0m         \u001b[39mself\u001b[39m\u001b[39m.\u001b[39mclose()\n",
      "File \u001b[1;32mc:\\Users\\jorge\\anaconda3\\envs\\Ironhack\\lib\\http\\client.py:320\u001b[0m, in \u001b[0;36mHTTPResponse.begin\u001b[1;34m(self)\u001b[0m\n\u001b[0;32m    318\u001b[0m \u001b[39m# read until we get a non-100 response\u001b[39;00m\n\u001b[0;32m    319\u001b[0m \u001b[39mwhile\u001b[39;00m \u001b[39mTrue\u001b[39;00m:\n\u001b[1;32m--> 320\u001b[0m     version, status, reason \u001b[39m=\u001b[39m \u001b[39mself\u001b[39;49m\u001b[39m.\u001b[39;49m_read_status()\n\u001b[0;32m    321\u001b[0m     \u001b[39mif\u001b[39;00m status \u001b[39m!=\u001b[39m CONTINUE:\n\u001b[0;32m    322\u001b[0m         \u001b[39mbreak\u001b[39;00m\n",
      "File \u001b[1;32mc:\\Users\\jorge\\anaconda3\\envs\\Ironhack\\lib\\http\\client.py:281\u001b[0m, in \u001b[0;36mHTTPResponse._read_status\u001b[1;34m(self)\u001b[0m\n\u001b[0;32m    280\u001b[0m \u001b[39mdef\u001b[39;00m \u001b[39m_read_status\u001b[39m(\u001b[39mself\u001b[39m):\n\u001b[1;32m--> 281\u001b[0m     line \u001b[39m=\u001b[39m \u001b[39mstr\u001b[39m(\u001b[39mself\u001b[39;49m\u001b[39m.\u001b[39;49mfp\u001b[39m.\u001b[39;49mreadline(_MAXLINE \u001b[39m+\u001b[39;49m \u001b[39m1\u001b[39;49m), \u001b[39m\"\u001b[39m\u001b[39miso-8859-1\u001b[39m\u001b[39m\"\u001b[39m)\n\u001b[0;32m    282\u001b[0m     \u001b[39mif\u001b[39;00m \u001b[39mlen\u001b[39m(line) \u001b[39m>\u001b[39m _MAXLINE:\n\u001b[0;32m    283\u001b[0m         \u001b[39mraise\u001b[39;00m LineTooLong(\u001b[39m\"\u001b[39m\u001b[39mstatus line\u001b[39m\u001b[39m\"\u001b[39m)\n",
      "File \u001b[1;32mc:\\Users\\jorge\\anaconda3\\envs\\Ironhack\\lib\\socket.py:704\u001b[0m, in \u001b[0;36mSocketIO.readinto\u001b[1;34m(self, b)\u001b[0m\n\u001b[0;32m    702\u001b[0m \u001b[39mwhile\u001b[39;00m \u001b[39mTrue\u001b[39;00m:\n\u001b[0;32m    703\u001b[0m     \u001b[39mtry\u001b[39;00m:\n\u001b[1;32m--> 704\u001b[0m         \u001b[39mreturn\u001b[39;00m \u001b[39mself\u001b[39;49m\u001b[39m.\u001b[39;49m_sock\u001b[39m.\u001b[39;49mrecv_into(b)\n\u001b[0;32m    705\u001b[0m     \u001b[39mexcept\u001b[39;00m timeout:\n\u001b[0;32m    706\u001b[0m         \u001b[39mself\u001b[39m\u001b[39m.\u001b[39m_timeout_occurred \u001b[39m=\u001b[39m \u001b[39mTrue\u001b[39;00m\n",
      "\u001b[1;31mKeyboardInterrupt\u001b[0m: "
     ]
    }
   ],
   "source": [
    "opciones= Options()\n",
    "opciones.add_experimental_option('excludeSwitches', ['enable-automation'])\n",
    "opciones.add_experimental_option('useAutomationExtension', False)\n",
    "opciones.add_argument('--start-maximized')\n",
    "opciones.add_argument('user.data-dir=selenium')\n",
    "opciones.add_argument('--incognito')\n",
    "\n",
    "dicc = {\"actor\": [], \"formacion\": []}\n",
    "\n",
    "for actor in unica_scrap:\n",
    "    try:\n",
    "        url = f\"https://www.unicarepresentaciones.com/actores-actrices/{actor}\"\n",
    "        driver = webdriver.Chrome(ChromeDriverManager().install())\n",
    "        driver.get(url)\n",
    "        driver.implicitly_wait(10)\n",
    "        cv = driver.find_element(\"css selector\", \"#block-system-main > div > div.ficha-actores > div.ficha-col-1\").text\n",
    "        elementos = cv.split(\"\\n\")\n",
    "        elementos.pop(0)\n",
    "        elementos = [i.strip() for i in elementos]\n",
    "        if \"Formación\" not in elementos:\n",
    "            pass\n",
    "        else:\n",
    "            indice_formacion = elementos.index(\"Formación\") + 1\n",
    "            lista_formacion = elementos[indice_formacion:]\n",
    "\n",
    "            dicc[\"actor\"].append(actor)\n",
    "            dicc[\"formacion\"].append(lista_formacion)\n",
    "    except NoSuchElementException:\n",
    "        driver.close()"
   ]
  },
  {
   "cell_type": "code",
   "execution_count": null,
   "metadata": {},
   "outputs": [],
   "source": [
    "formacion_unica = pd.DataFrame(dicc)"
   ]
  },
  {
   "cell_type": "code",
   "execution_count": null,
   "metadata": {},
   "outputs": [],
   "source": [
    "formacion_unica = formacion_unica.explode('formacion')"
   ]
  },
  {
   "attachments": {},
   "cell_type": "markdown",
   "metadata": {},
   "source": [
    "#### Listado IMDB"
   ]
  },
  {
   "cell_type": "code",
   "execution_count": null,
   "metadata": {},
   "outputs": [
    {
     "data": {
      "text/plain": [
       "['DANIEL ALBALADEJO', 'ENRIQUE ASENJO']"
      ]
     },
     "execution_count": 36,
     "metadata": {},
     "output_type": "execute_result"
    }
   ],
   "source": [
    "listado_actores = actores2 + actores_unica\n",
    "listado_actores[:2]"
   ]
  },
  {
   "cell_type": "code",
   "execution_count": 64,
   "metadata": {},
   "outputs": [
    {
     "ename": "ElementClickInterceptedException",
     "evalue": "Message: element click intercepted: Element is not clickable at point (371, 565)\n  (Session info: chrome=112.0.5615.49)\nStacktrace:\nBacktrace:\n\tGetHandleVerifier [0x00D6DCE3+50899]\n\t(No symbol) [0x00CFE111]\n\t(No symbol) [0x00C05588]\n\t(No symbol) [0x00C35A7A]\n\t(No symbol) [0x00C34336]\n\t(No symbol) [0x00C3267B]\n\t(No symbol) [0x00C31797]\n\t(No symbol) [0x00C294A5]\n\t(No symbol) [0x00C4B8FC]\n\t(No symbol) [0x00C28EC6]\n\t(No symbol) [0x00C4BC54]\n\t(No symbol) [0x00C5E01C]\n\t(No symbol) [0x00C4B6F6]\n\t(No symbol) [0x00C27708]\n\t(No symbol) [0x00C2886D]\n\tGetHandleVerifier [0x00FD3EAE+2566302]\n\tGetHandleVerifier [0x010092B1+2784417]\n\tGetHandleVerifier [0x0100327C+2759788]\n\tGetHandleVerifier [0x00E05740+672048]\n\t(No symbol) [0x00D08872]\n\t(No symbol) [0x00D041C8]\n\t(No symbol) [0x00D042AB]\n\t(No symbol) [0x00CF71B7]\n\tBaseThreadInitThunk [0x75F37D69+25]\n\tRtlInitializeExceptionChain [0x7707B74B+107]\n\tRtlClearBits [0x7707B6CF+191]\n",
     "output_type": "error",
     "traceback": [
      "\u001b[1;31m---------------------------------------------------------------------------\u001b[0m",
      "\u001b[1;31mElementClickInterceptedException\u001b[0m          Traceback (most recent call last)",
      "\u001b[1;32mc:\\Users\\jorge\\OneDrive\\Escritorio\\IronHack\\Work\\Proyecto Final\\notebooks\\web_scraping_bueno.ipynb Cell 25\u001b[0m in \u001b[0;36m2\n\u001b[0;32m     <a href='vscode-notebook-cell:/c%3A/Users/jorge/OneDrive/Escritorio/IronHack/Work/Proyecto%20Final/notebooks/web_scraping_bueno.ipynb#X36sZmlsZQ%3D%3D?line=16'>17</a>\u001b[0m sleep(\u001b[39m1\u001b[39m)\n\u001b[0;32m     <a href='vscode-notebook-cell:/c%3A/Users/jorge/OneDrive/Escritorio/IronHack/Work/Proyecto%20Final/notebooks/web_scraping_bueno.ipynb#X36sZmlsZQ%3D%3D?line=18'>19</a>\u001b[0m element \u001b[39m=\u001b[39m WebDriverWait(driver, \u001b[39m10\u001b[39m)\u001b[39m.\u001b[39muntil(expected_conditions\u001b[39m.\u001b[39melement_to_be_clickable((By\u001b[39m.\u001b[39mCSS_SELECTOR, \u001b[39m'\u001b[39m\u001b[39m#__next > main > div.ipc-page-content-container.ipc-page-content-container--full.sc-4f91839f-0.hmcKDt > div.ipc-page-content-container.ipc-page-content-container--center > section > div > div.ipc-page-grid__item.ipc-page-grid__item--span-2 > section:nth-child(3) > div.sc-17bafbdb-2.ffAEHI > ul > li:nth-child(1) > div.ipc-metadata-list-summary-item__c > div > a\u001b[39m\u001b[39m'\u001b[39m)))\n\u001b[1;32m---> <a href='vscode-notebook-cell:/c%3A/Users/jorge/OneDrive/Escritorio/IronHack/Work/Proyecto%20Final/notebooks/web_scraping_bueno.ipynb#X36sZmlsZQ%3D%3D?line=19'>20</a>\u001b[0m element\u001b[39m.\u001b[39;49mclick()\n\u001b[0;32m     <a href='vscode-notebook-cell:/c%3A/Users/jorge/OneDrive/Escritorio/IronHack/Work/Proyecto%20Final/notebooks/web_scraping_bueno.ipynb#X36sZmlsZQ%3D%3D?line=21'>22</a>\u001b[0m lista\u001b[39m.\u001b[39mappend(driver\u001b[39m.\u001b[39mfind_element(\u001b[39m\"\u001b[39m\u001b[39mcss selector\u001b[39m\u001b[39m\"\u001b[39m, \u001b[39m\"\u001b[39m\u001b[39m#__next > main > div > section.ipc-page-background.ipc-page-background--base.sc-f9e7f53-0.ifXVtO > div > section > div > div.sc-414674b4-1.gWfYnM.ipc-page-grid__item.ipc-page-grid__item--span-2 > div.celwidget > section:nth-child(2) > div:nth-child(5) > div > div > div.ipc-accordion__item__content > div\u001b[39m\u001b[39m\"\u001b[39m)\u001b[39m.\u001b[39mtext)\n",
      "File \u001b[1;32mc:\\Users\\jorge\\anaconda3\\envs\\Ironhack\\lib\\site-packages\\selenium\\webdriver\\remote\\webelement.py:93\u001b[0m, in \u001b[0;36mWebElement.click\u001b[1;34m(self)\u001b[0m\n\u001b[0;32m     91\u001b[0m \u001b[39mdef\u001b[39;00m \u001b[39mclick\u001b[39m(\u001b[39mself\u001b[39m) \u001b[39m-\u001b[39m\u001b[39m>\u001b[39m \u001b[39mNone\u001b[39;00m:\n\u001b[0;32m     92\u001b[0m \u001b[39m    \u001b[39m\u001b[39m\"\"\"Clicks the element.\"\"\"\u001b[39;00m\n\u001b[1;32m---> 93\u001b[0m     \u001b[39mself\u001b[39;49m\u001b[39m.\u001b[39;49m_execute(Command\u001b[39m.\u001b[39;49mCLICK_ELEMENT)\n",
      "File \u001b[1;32mc:\\Users\\jorge\\anaconda3\\envs\\Ironhack\\lib\\site-packages\\selenium\\webdriver\\remote\\webelement.py:410\u001b[0m, in \u001b[0;36mWebElement._execute\u001b[1;34m(self, command, params)\u001b[0m\n\u001b[0;32m    408\u001b[0m     params \u001b[39m=\u001b[39m {}\n\u001b[0;32m    409\u001b[0m params[\u001b[39m\"\u001b[39m\u001b[39mid\u001b[39m\u001b[39m\"\u001b[39m] \u001b[39m=\u001b[39m \u001b[39mself\u001b[39m\u001b[39m.\u001b[39m_id\n\u001b[1;32m--> 410\u001b[0m \u001b[39mreturn\u001b[39;00m \u001b[39mself\u001b[39;49m\u001b[39m.\u001b[39;49m_parent\u001b[39m.\u001b[39;49mexecute(command, params)\n",
      "File \u001b[1;32mc:\\Users\\jorge\\anaconda3\\envs\\Ironhack\\lib\\site-packages\\selenium\\webdriver\\remote\\webdriver.py:444\u001b[0m, in \u001b[0;36mWebDriver.execute\u001b[1;34m(self, driver_command, params)\u001b[0m\n\u001b[0;32m    442\u001b[0m response \u001b[39m=\u001b[39m \u001b[39mself\u001b[39m\u001b[39m.\u001b[39mcommand_executor\u001b[39m.\u001b[39mexecute(driver_command, params)\n\u001b[0;32m    443\u001b[0m \u001b[39mif\u001b[39;00m response:\n\u001b[1;32m--> 444\u001b[0m     \u001b[39mself\u001b[39;49m\u001b[39m.\u001b[39;49merror_handler\u001b[39m.\u001b[39;49mcheck_response(response)\n\u001b[0;32m    445\u001b[0m     response[\u001b[39m\"\u001b[39m\u001b[39mvalue\u001b[39m\u001b[39m\"\u001b[39m] \u001b[39m=\u001b[39m \u001b[39mself\u001b[39m\u001b[39m.\u001b[39m_unwrap_value(response\u001b[39m.\u001b[39mget(\u001b[39m\"\u001b[39m\u001b[39mvalue\u001b[39m\u001b[39m\"\u001b[39m, \u001b[39mNone\u001b[39;00m))\n\u001b[0;32m    446\u001b[0m     \u001b[39mreturn\u001b[39;00m response\n",
      "File \u001b[1;32mc:\\Users\\jorge\\anaconda3\\envs\\Ironhack\\lib\\site-packages\\selenium\\webdriver\\remote\\errorhandler.py:249\u001b[0m, in \u001b[0;36mErrorHandler.check_response\u001b[1;34m(self, response)\u001b[0m\n\u001b[0;32m    247\u001b[0m         alert_text \u001b[39m=\u001b[39m value[\u001b[39m\"\u001b[39m\u001b[39malert\u001b[39m\u001b[39m\"\u001b[39m]\u001b[39m.\u001b[39mget(\u001b[39m\"\u001b[39m\u001b[39mtext\u001b[39m\u001b[39m\"\u001b[39m)\n\u001b[0;32m    248\u001b[0m     \u001b[39mraise\u001b[39;00m exception_class(message, screen, stacktrace, alert_text)  \u001b[39m# type: ignore[call-arg]  # mypy is not smart enough here\u001b[39;00m\n\u001b[1;32m--> 249\u001b[0m \u001b[39mraise\u001b[39;00m exception_class(message, screen, stacktrace)\n",
      "\u001b[1;31mElementClickInterceptedException\u001b[0m: Message: element click intercepted: Element is not clickable at point (371, 565)\n  (Session info: chrome=112.0.5615.49)\nStacktrace:\nBacktrace:\n\tGetHandleVerifier [0x00D6DCE3+50899]\n\t(No symbol) [0x00CFE111]\n\t(No symbol) [0x00C05588]\n\t(No symbol) [0x00C35A7A]\n\t(No symbol) [0x00C34336]\n\t(No symbol) [0x00C3267B]\n\t(No symbol) [0x00C31797]\n\t(No symbol) [0x00C294A5]\n\t(No symbol) [0x00C4B8FC]\n\t(No symbol) [0x00C28EC6]\n\t(No symbol) [0x00C4BC54]\n\t(No symbol) [0x00C5E01C]\n\t(No symbol) [0x00C4B6F6]\n\t(No symbol) [0x00C27708]\n\t(No symbol) [0x00C2886D]\n\tGetHandleVerifier [0x00FD3EAE+2566302]\n\tGetHandleVerifier [0x010092B1+2784417]\n\tGetHandleVerifier [0x0100327C+2759788]\n\tGetHandleVerifier [0x00E05740+672048]\n\t(No symbol) [0x00D08872]\n\t(No symbol) [0x00D041C8]\n\t(No symbol) [0x00D042AB]\n\t(No symbol) [0x00CF71B7]\n\tBaseThreadInitThunk [0x75F37D69+25]\n\tRtlInitializeExceptionChain [0x7707B74B+107]\n\tRtlClearBits [0x7707B6CF+191]\n"
     ]
    }
   ],
   "source": [
    "opciones= Options()\n",
    "opciones.add_experimental_option('excludeSwitches', ['enable-automation'])\n",
    "opciones.add_experimental_option('useAutomationExtension', False)\n",
    "opciones.add_argument('--start-maximized')\n",
    "opciones.add_argument('user.data-dir=selenium')\n",
    "opciones.add_argument('--incognito')\n",
    "\n",
    "lista = []\n",
    "\n",
    "for actor in listado_actores[:2]:\n",
    "    url = \"https://www.imdb.com/?ref_=nv_home\"\n",
    "    driver = webdriver.Chrome(ChromeDriverManager().install())\n",
    "    driver.get(url)\n",
    "    driver.implicitly_wait(10)\n",
    "    driver.find_element(\"css selector\", \"#suggestion-search\").send_keys(actor, Keys.TAB)\n",
    "    driver.find_element(\"css selector\", \"#suggestion-search-button\").click()\n",
    "    sleep(1)\n",
    "    \n",
    "    element = WebDriverWait(driver, 10).until(expected_conditions.element_to_be_clickable((By.CSS_SELECTOR, '#__next > main > div.ipc-page-content-container.ipc-page-content-container--full.sc-4f91839f-0.hmcKDt > div.ipc-page-content-container.ipc-page-content-container--center > section > div > div.ipc-page-grid__item.ipc-page-grid__item--span-2 > section:nth-child(3) > div.sc-17bafbdb-2.ffAEHI > ul > li:nth-child(1) > div.ipc-metadata-list-summary-item__c > div > a')))\n",
    "    element.click()\n",
    "    \n",
    "    lista.append(driver.find_element(\"css selector\", \"#__next > main > div > section.ipc-page-background.ipc-page-background--base.sc-f9e7f53-0.ifXVtO > div > section > div > div.sc-414674b4-1.gWfYnM.ipc-page-grid__item.ipc-page-grid__item--span-2 > div.celwidget > section:nth-child(2) > div:nth-child(5) > div > div > div.ipc-accordion__item__content > div\").text)\n"
   ]
  },
  {
   "cell_type": "code",
   "execution_count": 62,
   "metadata": {},
   "outputs": [
    {
     "ename": "ElementClickInterceptedException",
     "evalue": "Message: element click intercepted: Element is not clickable at point (371, 563)\n  (Session info: chrome=112.0.5615.49)\nStacktrace:\nBacktrace:\n\tGetHandleVerifier [0x00D6DCE3+50899]\n\t(No symbol) [0x00CFE111]\n\t(No symbol) [0x00C05588]\n\t(No symbol) [0x00C35A7A]\n\t(No symbol) [0x00C34336]\n\t(No symbol) [0x00C3267B]\n\t(No symbol) [0x00C31797]\n\t(No symbol) [0x00C294A5]\n\t(No symbol) [0x00C4B8FC]\n\t(No symbol) [0x00C28EC6]\n\t(No symbol) [0x00C4BC54]\n\t(No symbol) [0x00C5E01C]\n\t(No symbol) [0x00C4B6F6]\n\t(No symbol) [0x00C27708]\n\t(No symbol) [0x00C2886D]\n\tGetHandleVerifier [0x00FD3EAE+2566302]\n\tGetHandleVerifier [0x010092B1+2784417]\n\tGetHandleVerifier [0x0100327C+2759788]\n\tGetHandleVerifier [0x00E05740+672048]\n\t(No symbol) [0x00D08872]\n\t(No symbol) [0x00D041C8]\n\t(No symbol) [0x00D042AB]\n\t(No symbol) [0x00CF71B7]\n\tBaseThreadInitThunk [0x75F37D69+25]\n\tRtlInitializeExceptionChain [0x7707B74B+107]\n\tRtlClearBits [0x7707B6CF+191]\n",
     "output_type": "error",
     "traceback": [
      "\u001b[1;31m---------------------------------------------------------------------------\u001b[0m",
      "\u001b[1;31mElementClickInterceptedException\u001b[0m          Traceback (most recent call last)",
      "\u001b[1;32mc:\\Users\\jorge\\OneDrive\\Escritorio\\IronHack\\Work\\Proyecto Final\\notebooks\\web_scraping_bueno.ipynb Cell 25\u001b[0m in \u001b[0;36m1\n\u001b[0;32m     <a href='vscode-notebook-cell:/c%3A/Users/jorge/OneDrive/Escritorio/IronHack/Work/Proyecto%20Final/notebooks/web_scraping_bueno.ipynb#X35sZmlsZQ%3D%3D?line=15'>16</a>\u001b[0m driver\u001b[39m.\u001b[39mfind_element(\u001b[39m\"\u001b[39m\u001b[39mcss selector\u001b[39m\u001b[39m\"\u001b[39m, \u001b[39m\"\u001b[39m\u001b[39m#suggestion-search-button\u001b[39m\u001b[39m\"\u001b[39m)\u001b[39m.\u001b[39mclick()\n\u001b[0;32m     <a href='vscode-notebook-cell:/c%3A/Users/jorge/OneDrive/Escritorio/IronHack/Work/Proyecto%20Final/notebooks/web_scraping_bueno.ipynb#X35sZmlsZQ%3D%3D?line=16'>17</a>\u001b[0m sleep(\u001b[39m1\u001b[39m)\n\u001b[1;32m---> <a href='vscode-notebook-cell:/c%3A/Users/jorge/OneDrive/Escritorio/IronHack/Work/Proyecto%20Final/notebooks/web_scraping_bueno.ipynb#X35sZmlsZQ%3D%3D?line=17'>18</a>\u001b[0m driver\u001b[39m.\u001b[39;49mfind_element(\u001b[39m\"\u001b[39;49m\u001b[39mcss selector\u001b[39;49m\u001b[39m\"\u001b[39;49m, \u001b[39m'\u001b[39;49m\u001b[39m#__next > main > div.ipc-page-content-container.ipc-page-content-container--full.sc-4f91839f-0.hmcKDt > div.ipc-page-content-container.ipc-page-content-container--center > section > div > div.ipc-page-grid__item.ipc-page-grid__item--span-2 > section:nth-child(3) > div.sc-17bafbdb-2.ffAEHI > ul > li:nth-child(1) > div.ipc-metadata-list-summary-item__c > div > a\u001b[39;49m\u001b[39m'\u001b[39;49m)\u001b[39m.\u001b[39;49mclick()\n\u001b[0;32m     <a href='vscode-notebook-cell:/c%3A/Users/jorge/OneDrive/Escritorio/IronHack/Work/Proyecto%20Final/notebooks/web_scraping_bueno.ipynb#X35sZmlsZQ%3D%3D?line=18'>19</a>\u001b[0m lista\u001b[39m.\u001b[39mappend(driver\u001b[39m.\u001b[39mfind_element(\u001b[39m\"\u001b[39m\u001b[39mcss selector\u001b[39m\u001b[39m\"\u001b[39m, \u001b[39m\"\u001b[39m\u001b[39m#__next > main > div > section.ipc-page-background.ipc-page-background--base.sc-f9e7f53-0.ifXVtO > div > section > div > div.sc-414674b4-1.gWfYnM.ipc-page-grid__item.ipc-page-grid__item--span-2 > div.celwidget > section:nth-child(2) > div:nth-child(5) > div > div > div.ipc-accordion__item__content > div\u001b[39m\u001b[39m\"\u001b[39m)\u001b[39m.\u001b[39mtext)\n",
      "File \u001b[1;32mc:\\Users\\jorge\\anaconda3\\envs\\Ironhack\\lib\\site-packages\\selenium\\webdriver\\remote\\webelement.py:93\u001b[0m, in \u001b[0;36mWebElement.click\u001b[1;34m(self)\u001b[0m\n\u001b[0;32m     91\u001b[0m \u001b[39mdef\u001b[39;00m \u001b[39mclick\u001b[39m(\u001b[39mself\u001b[39m) \u001b[39m-\u001b[39m\u001b[39m>\u001b[39m \u001b[39mNone\u001b[39;00m:\n\u001b[0;32m     92\u001b[0m \u001b[39m    \u001b[39m\u001b[39m\"\"\"Clicks the element.\"\"\"\u001b[39;00m\n\u001b[1;32m---> 93\u001b[0m     \u001b[39mself\u001b[39;49m\u001b[39m.\u001b[39;49m_execute(Command\u001b[39m.\u001b[39;49mCLICK_ELEMENT)\n",
      "File \u001b[1;32mc:\\Users\\jorge\\anaconda3\\envs\\Ironhack\\lib\\site-packages\\selenium\\webdriver\\remote\\webelement.py:410\u001b[0m, in \u001b[0;36mWebElement._execute\u001b[1;34m(self, command, params)\u001b[0m\n\u001b[0;32m    408\u001b[0m     params \u001b[39m=\u001b[39m {}\n\u001b[0;32m    409\u001b[0m params[\u001b[39m\"\u001b[39m\u001b[39mid\u001b[39m\u001b[39m\"\u001b[39m] \u001b[39m=\u001b[39m \u001b[39mself\u001b[39m\u001b[39m.\u001b[39m_id\n\u001b[1;32m--> 410\u001b[0m \u001b[39mreturn\u001b[39;00m \u001b[39mself\u001b[39;49m\u001b[39m.\u001b[39;49m_parent\u001b[39m.\u001b[39;49mexecute(command, params)\n",
      "File \u001b[1;32mc:\\Users\\jorge\\anaconda3\\envs\\Ironhack\\lib\\site-packages\\selenium\\webdriver\\remote\\webdriver.py:444\u001b[0m, in \u001b[0;36mWebDriver.execute\u001b[1;34m(self, driver_command, params)\u001b[0m\n\u001b[0;32m    442\u001b[0m response \u001b[39m=\u001b[39m \u001b[39mself\u001b[39m\u001b[39m.\u001b[39mcommand_executor\u001b[39m.\u001b[39mexecute(driver_command, params)\n\u001b[0;32m    443\u001b[0m \u001b[39mif\u001b[39;00m response:\n\u001b[1;32m--> 444\u001b[0m     \u001b[39mself\u001b[39;49m\u001b[39m.\u001b[39;49merror_handler\u001b[39m.\u001b[39;49mcheck_response(response)\n\u001b[0;32m    445\u001b[0m     response[\u001b[39m\"\u001b[39m\u001b[39mvalue\u001b[39m\u001b[39m\"\u001b[39m] \u001b[39m=\u001b[39m \u001b[39mself\u001b[39m\u001b[39m.\u001b[39m_unwrap_value(response\u001b[39m.\u001b[39mget(\u001b[39m\"\u001b[39m\u001b[39mvalue\u001b[39m\u001b[39m\"\u001b[39m, \u001b[39mNone\u001b[39;00m))\n\u001b[0;32m    446\u001b[0m     \u001b[39mreturn\u001b[39;00m response\n",
      "File \u001b[1;32mc:\\Users\\jorge\\anaconda3\\envs\\Ironhack\\lib\\site-packages\\selenium\\webdriver\\remote\\errorhandler.py:249\u001b[0m, in \u001b[0;36mErrorHandler.check_response\u001b[1;34m(self, response)\u001b[0m\n\u001b[0;32m    247\u001b[0m         alert_text \u001b[39m=\u001b[39m value[\u001b[39m\"\u001b[39m\u001b[39malert\u001b[39m\u001b[39m\"\u001b[39m]\u001b[39m.\u001b[39mget(\u001b[39m\"\u001b[39m\u001b[39mtext\u001b[39m\u001b[39m\"\u001b[39m)\n\u001b[0;32m    248\u001b[0m     \u001b[39mraise\u001b[39;00m exception_class(message, screen, stacktrace, alert_text)  \u001b[39m# type: ignore[call-arg]  # mypy is not smart enough here\u001b[39;00m\n\u001b[1;32m--> 249\u001b[0m \u001b[39mraise\u001b[39;00m exception_class(message, screen, stacktrace)\n",
      "\u001b[1;31mElementClickInterceptedException\u001b[0m: Message: element click intercepted: Element is not clickable at point (371, 563)\n  (Session info: chrome=112.0.5615.49)\nStacktrace:\nBacktrace:\n\tGetHandleVerifier [0x00D6DCE3+50899]\n\t(No symbol) [0x00CFE111]\n\t(No symbol) [0x00C05588]\n\t(No symbol) [0x00C35A7A]\n\t(No symbol) [0x00C34336]\n\t(No symbol) [0x00C3267B]\n\t(No symbol) [0x00C31797]\n\t(No symbol) [0x00C294A5]\n\t(No symbol) [0x00C4B8FC]\n\t(No symbol) [0x00C28EC6]\n\t(No symbol) [0x00C4BC54]\n\t(No symbol) [0x00C5E01C]\n\t(No symbol) [0x00C4B6F6]\n\t(No symbol) [0x00C27708]\n\t(No symbol) [0x00C2886D]\n\tGetHandleVerifier [0x00FD3EAE+2566302]\n\tGetHandleVerifier [0x010092B1+2784417]\n\tGetHandleVerifier [0x0100327C+2759788]\n\tGetHandleVerifier [0x00E05740+672048]\n\t(No symbol) [0x00D08872]\n\t(No symbol) [0x00D041C8]\n\t(No symbol) [0x00D042AB]\n\t(No symbol) [0x00CF71B7]\n\tBaseThreadInitThunk [0x75F37D69+25]\n\tRtlInitializeExceptionChain [0x7707B74B+107]\n\tRtlClearBits [0x7707B6CF+191]\n"
     ]
    }
   ],
   "source": [
    "opciones= Options()\n",
    "opciones.add_experimental_option('excludeSwitches', ['enable-automation'])\n",
    "opciones.add_experimental_option('useAutomationExtension', False)\n",
    "opciones.add_argument('--start-maximized')\n",
    "opciones.add_argument('user.data-dir=selenium')\n",
    "opciones.add_argument('--incognito')\n",
    "\n",
    "lista = []\n",
    "\n",
    "for actor in listado_actores[:2]:\n",
    "    url = \"https://www.imdb.com/?ref_=nv_home\"\n",
    "    driver = webdriver.Chrome(ChromeDriverManager().install())\n",
    "    driver.get(url)\n",
    "    driver.implicitly_wait(10)\n",
    "    driver.find_element(\"css selector\", \"#suggestion-search\").send_keys(actor, Keys.TAB)\n",
    "    driver.find_element(\"css selector\", \"#suggestion-search-button\").click()\n",
    "    sleep(1)\n",
    "    driver.find_element(\"css selector\", '#__next > main > div.ipc-page-content-container.ipc-page-content-container--full.sc-4f91839f-0.hmcKDt > div.ipc-page-content-container.ipc-page-content-container--center > section > div > div.ipc-page-grid__item.ipc-page-grid__item--span-2 > section:nth-child(3) > div.sc-17bafbdb-2.ffAEHI > ul > li:nth-child(1) > div.ipc-metadata-list-summary-item__c > div > a').click()\n",
    "    lista.append(driver.find_element(\"css selector\", \"#__next > main > div > section.ipc-page-background.ipc-page-background--base.sc-f9e7f53-0.ifXVtO > div > section > div > div.sc-414674b4-1.gWfYnM.ipc-page-grid__item.ipc-page-grid__item--span-2 > div.celwidget > section:nth-child(2) > div:nth-child(5) > div > div > div.ipc-accordion__item__content > div\").text)"
   ]
  }
 ],
 "metadata": {
  "kernelspec": {
   "display_name": "Ironhack",
   "language": "python",
   "name": "python3"
  },
  "language_info": {
   "codemirror_mode": {
    "name": "ipython",
    "version": 3
   },
   "file_extension": ".py",
   "mimetype": "text/x-python",
   "name": "python",
   "nbconvert_exporter": "python",
   "pygments_lexer": "ipython3",
   "version": "3.9.13"
  },
  "orig_nbformat": 4
 },
 "nbformat": 4,
 "nbformat_minor": 2
}
